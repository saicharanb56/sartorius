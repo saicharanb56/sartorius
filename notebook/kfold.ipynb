{
 "cells": [
  {
   "cell_type": "code",
   "execution_count": 1,
   "id": "67a7fbf2",
   "metadata": {
    "execution": {
     "iopub.execute_input": "2021-12-14T16:03:10.317765Z",
     "iopub.status.busy": "2021-12-14T16:03:10.316637Z",
     "iopub.status.idle": "2021-12-14T16:03:29.037603Z",
     "shell.execute_reply": "2021-12-14T16:03:29.036806Z",
     "shell.execute_reply.started": "2021-12-14T15:32:24.463276Z"
    },
    "papermill": {
     "duration": 18.736732,
     "end_time": "2021-12-14T16:03:29.037776",
     "exception": false,
     "start_time": "2021-12-14T16:03:10.301044",
     "status": "completed"
    },
    "tags": []
   },
   "outputs": [],
   "source": [
    "!pip install -Uqqq pycocotools"
   ]
  },
  {
   "cell_type": "code",
   "execution_count": 2,
   "id": "68992a7e",
   "metadata": {
    "execution": {
     "iopub.execute_input": "2021-12-14T16:03:29.063699Z",
     "iopub.status.busy": "2021-12-14T16:03:29.062778Z",
     "iopub.status.idle": "2021-12-14T16:03:30.209386Z",
     "shell.execute_reply": "2021-12-14T16:03:30.208321Z",
     "shell.execute_reply.started": "2021-12-14T15:34:11.280104Z"
    },
    "papermill": {
     "duration": 1.161519,
     "end_time": "2021-12-14T16:03:30.209551",
     "exception": false,
     "start_time": "2021-12-14T16:03:29.048032",
     "status": "completed"
    },
    "tags": []
   },
   "outputs": [],
   "source": [
    "from pycocotools.coco import COCO\n",
    "import json\n",
    "import funcy\n",
    "from sklearn.model_selection import KFold, train_test_split\n",
    "import numpy as np\n",
    "import pandas as pd\n",
    "from tqdm.notebook import tqdm\n",
    "import itertools"
   ]
  },
  {
   "cell_type": "code",
   "execution_count": 3,
   "id": "3ff65495",
   "metadata": {
    "execution": {
     "iopub.execute_input": "2021-12-14T16:03:30.246640Z",
     "iopub.status.busy": "2021-12-14T16:03:30.245767Z",
     "iopub.status.idle": "2021-12-14T16:03:30.248838Z",
     "shell.execute_reply": "2021-12-14T16:03:30.248382Z",
     "shell.execute_reply.started": "2021-12-14T15:33:06.946891Z"
    },
    "papermill": {
     "duration": 0.030291,
     "end_time": "2021-12-14T16:03:30.249010",
     "exception": false,
     "start_time": "2021-12-14T16:03:30.218719",
     "status": "completed"
    },
    "tags": []
   },
   "outputs": [],
   "source": [
    "def save_coco(file, images, annotations, categories):\n",
    "    with open(file, 'wt', encoding='UTF-8') as coco:\n",
    "        json.dump({ 'images': list(images), \n",
    "            'annotations': list(annotations), 'categories': list(categories)}, coco, indent=2, sort_keys=True)\n",
    "\n",
    "def filter_annotations(annotations, image_ids):\n",
    "    return funcy.lfilter(lambda a: a['image_id'] in image_ids, annotations)\n",
    "\n",
    "def add_image_data(images, all_image_data):\n",
    "    image_ids = np.array(funcy.lmap(lambda i : i['id'], all_image_data))\n",
    "    idxs = []\n",
    "    for image in images:\n",
    "        idxs.append(np.where(image_ids == image)[0][0])\n",
    "    return all_image_data[idxs]\n",
    "\n",
    "def rle_decode(mask_rle, shape):\n",
    "    '''\n",
    "    mask_rle: run-length as string formated (start length)\n",
    "    shape: (height,width) of array to return \n",
    "    Returns numpy array, 1 - mask, 0 - background\n",
    "\n",
    "    '''\n",
    "    s = mask_rle.split()\n",
    "    starts, lengths = [np.asarray(x, dtype=int) for x in (s[0:][::2], s[1:][::2])]\n",
    "    starts -= 1\n",
    "    ends = starts + lengths\n",
    "    img = np.zeros(shape[0]*shape[1], dtype=np.uint8)\n",
    "    for lo, hi in zip(starts, ends):\n",
    "        img[lo:hi] = 1\n",
    "    return img.reshape(shape)\n",
    "\n",
    "\n",
    "def binary_mask_to_rle(binary_mask):\n",
    "    rle = {'counts': [], 'size': list(binary_mask.shape)}\n",
    "    counts = rle.get('counts')\n",
    "    for i, (value, elements) in enumerate(itertools.groupby(binary_mask.ravel(order='F'))):\n",
    "        if i == 0 and value == 1:\n",
    "            counts.append(0)\n",
    "        counts.append(len(list(elements)))\n",
    "    return rle\n",
    "\n",
    "def coco_structure(train_df):\n",
    "    cat_ids = {name:id+1 for id, name in enumerate(train_df.cell_type.unique())}    \n",
    "    cats =[{'name':name, 'id':id} for name,id in cat_ids.items()]\n",
    "    images = [{'id':id, 'width':row.width, 'height':row.height, 'file_name':f'train/{id}.png'} for id,row in train_df.groupby('id').agg('first').iterrows()]\n",
    "    annotations=[]\n",
    "    for idx, row in tqdm(train_df.iterrows()):\n",
    "        mk = rle_decode(row.annotation, (row.height, row.width))\n",
    "        ys, xs = np.where(mk)\n",
    "        x1, x2 = min(xs), max(xs)\n",
    "        y1, y2 = min(ys), max(ys)\n",
    "        enc =binary_mask_to_rle(mk)\n",
    "        seg = {\n",
    "            'segmentation':enc, \n",
    "            'bbox': [int(x1), int(y1), int(x2-x1+1), int(y2-y1+1)],\n",
    "            'area': int(np.sum(mk)),\n",
    "            'image_id':row.id, \n",
    "            'category_id':cat_ids[row.cell_type], \n",
    "            'iscrowd':0, \n",
    "            'id':idx\n",
    "        }\n",
    "        annotations.append(seg)\n",
    "    return {'categories':cats, 'images':images,'annotations':annotations}"
   ]
  },
  {
   "cell_type": "code",
   "execution_count": 4,
   "id": "2714a349",
   "metadata": {
    "execution": {
     "iopub.execute_input": "2021-12-14T16:03:30.273154Z",
     "iopub.status.busy": "2021-12-14T16:03:30.272374Z",
     "iopub.status.idle": "2021-12-14T17:09:41.819461Z",
     "shell.execute_reply": "2021-12-14T17:09:41.818959Z",
     "shell.execute_reply.started": "2021-12-14T15:36:55.709271Z"
    },
    "papermill": {
     "duration": 3971.56095,
     "end_time": "2021-12-14T17:09:41.819600",
     "exception": false,
     "start_time": "2021-12-14T16:03:30.258650",
     "status": "completed"
    },
    "tags": []
   },
   "outputs": [
    {
     "data": {
      "application/vnd.jupyter.widget-view+json": {
       "model_id": "84ed3d2aaa55487c839001596d48f257",
       "version_major": 2,
       "version_minor": 0
      },
      "text/plain": [
       "0it [00:00, ?it/s]"
      ]
     },
     "metadata": {},
     "output_type": "display_data"
    }
   ],
   "source": [
    "train_df = pd.read_csv('../input/sartorius-cell-instance-segmentation/train.csv')\n",
    "coco = coco_structure(train_df)"
   ]
  },
  {
   "cell_type": "code",
   "execution_count": 5,
   "id": "816a1d2e",
   "metadata": {
    "execution": {
     "iopub.execute_input": "2021-12-14T17:09:41.862614Z",
     "iopub.status.busy": "2021-12-14T17:09:41.861922Z",
     "iopub.status.idle": "2021-12-14T17:09:41.866062Z",
     "shell.execute_reply": "2021-12-14T17:09:41.865564Z",
     "shell.execute_reply.started": "2021-12-14T15:36:17.216433Z"
    },
    "papermill": {
     "duration": 0.036901,
     "end_time": "2021-12-14T17:09:41.866202",
     "exception": false,
     "start_time": "2021-12-14T17:09:41.829301",
     "status": "completed"
    },
    "tags": []
   },
   "outputs": [],
   "source": [
    "images = np.array(coco['images'])\n",
    "annotations = np.array(coco['annotations'])\n",
    "categories = np.array(coco['categories'])"
   ]
  },
  {
   "cell_type": "code",
   "execution_count": 6,
   "id": "f8903fe3",
   "metadata": {
    "execution": {
     "iopub.execute_input": "2021-12-14T17:09:41.893086Z",
     "iopub.status.busy": "2021-12-14T17:09:41.892308Z",
     "iopub.status.idle": "2021-12-14T17:09:41.895344Z",
     "shell.execute_reply": "2021-12-14T17:09:41.895791Z",
     "shell.execute_reply.started": "2021-12-14T15:36:25.885046Z"
    },
    "papermill": {
     "duration": 0.01965,
     "end_time": "2021-12-14T17:09:41.895973",
     "exception": false,
     "start_time": "2021-12-14T17:09:41.876323",
     "status": "completed"
    },
    "tags": []
   },
   "outputs": [
    {
     "data": {
      "text/plain": [
       "dict_keys(['categories', 'images', 'annotations'])"
      ]
     },
     "execution_count": 6,
     "metadata": {},
     "output_type": "execute_result"
    }
   ],
   "source": [
    "coco.keys()"
   ]
  },
  {
   "cell_type": "code",
   "execution_count": 7,
   "id": "6febece2",
   "metadata": {
    "execution": {
     "iopub.execute_input": "2021-12-14T17:09:41.921670Z",
     "iopub.status.busy": "2021-12-14T17:09:41.920855Z",
     "iopub.status.idle": "2021-12-14T17:09:41.924594Z",
     "shell.execute_reply": "2021-12-14T17:09:41.924018Z",
     "shell.execute_reply.started": "2021-12-12T14:53:11.279343Z"
    },
    "papermill": {
     "duration": 0.019107,
     "end_time": "2021-12-14T17:09:41.924729",
     "exception": false,
     "start_time": "2021-12-14T17:09:41.905622",
     "status": "completed"
    },
    "tags": []
   },
   "outputs": [
    {
     "data": {
      "text/plain": [
       "array([{'name': 'shsy5y', 'id': 1}, {'name': 'astro', 'id': 2},\n",
       "       {'name': 'cort', 'id': 3}], dtype=object)"
      ]
     },
     "execution_count": 7,
     "metadata": {},
     "output_type": "execute_result"
    }
   ],
   "source": [
    "categories"
   ]
  },
  {
   "cell_type": "code",
   "execution_count": 8,
   "id": "fae307e8",
   "metadata": {
    "execution": {
     "iopub.execute_input": "2021-12-14T17:09:41.954614Z",
     "iopub.status.busy": "2021-12-14T17:09:41.953670Z",
     "iopub.status.idle": "2021-12-14T17:09:41.993641Z",
     "shell.execute_reply": "2021-12-14T17:09:41.994132Z",
     "shell.execute_reply.started": "2021-12-12T14:53:11.295924Z"
    },
    "papermill": {
     "duration": 0.059591,
     "end_time": "2021-12-14T17:09:41.994318",
     "exception": false,
     "start_time": "2021-12-14T17:09:41.934727",
     "status": "completed"
    },
    "tags": []
   },
   "outputs": [],
   "source": [
    "images_to_categories = {}\n",
    "categories_to_images = {1 : [], 2 : [], 3 : []}\n",
    "\n",
    "for annotation in annotations:\n",
    "    images_to_categories[annotation['image_id']] = annotation['category_id']\n",
    "for image in images_to_categories:\n",
    "    categories_to_images[images_to_categories[image]].append(image)\n",
    "\n",
    "cat = np.array([annotation['category_id'] for annotation in annotations])"
   ]
  },
  {
   "cell_type": "code",
   "execution_count": 9,
   "id": "8e9a4749",
   "metadata": {
    "execution": {
     "iopub.execute_input": "2021-12-14T17:09:42.018392Z",
     "iopub.status.busy": "2021-12-14T17:09:42.017457Z",
     "iopub.status.idle": "2021-12-14T17:09:42.021492Z",
     "shell.execute_reply": "2021-12-14T17:09:42.022055Z",
     "shell.execute_reply.started": "2021-12-12T14:53:11.353937Z"
    },
    "papermill": {
     "duration": 0.017923,
     "end_time": "2021-12-14T17:09:42.022221",
     "exception": false,
     "start_time": "2021-12-14T17:09:42.004298",
     "status": "completed"
    },
    "tags": []
   },
   "outputs": [],
   "source": [
    "images_shsy5y = np.array(categories_to_images[1])\n",
    "images_astro = np.array(categories_to_images[2])\n",
    "images_cort = np.array(categories_to_images[3])"
   ]
  },
  {
   "cell_type": "markdown",
   "id": "38b63cdd",
   "metadata": {
    "papermill": {
     "duration": 0.00963,
     "end_time": "2021-12-14T17:09:42.041774",
     "exception": false,
     "start_time": "2021-12-14T17:09:42.032144",
     "status": "completed"
    },
    "tags": []
   },
   "source": [
    "Generating per-cell datasets to train segmentation models"
   ]
  },
  {
   "cell_type": "code",
   "execution_count": 10,
   "id": "fe5fb13a",
   "metadata": {
    "execution": {
     "iopub.execute_input": "2021-12-14T17:09:42.065456Z",
     "iopub.status.busy": "2021-12-14T17:09:42.064840Z",
     "iopub.status.idle": "2021-12-14T17:09:49.305111Z",
     "shell.execute_reply": "2021-12-14T17:09:49.304532Z",
     "shell.execute_reply.started": "2021-12-12T14:53:11.362749Z"
    },
    "papermill": {
     "duration": 7.253353,
     "end_time": "2021-12-14T17:09:49.305266",
     "exception": false,
     "start_time": "2021-12-14T17:09:42.051913",
     "status": "completed"
    },
    "tags": []
   },
   "outputs": [],
   "source": [
    "shsy5y_train_images, shsy5y_val_images = train_test_split(images_shsy5y, train_size=0.8)\n",
    "astro_train_images, astro_val_images = train_test_split(images_astro, train_size=0.8)\n",
    "cort_train_images, cort_val_images = train_test_split(images_cort, train_size=0.8)\n",
    "\n",
    "\n",
    "save_coco(f\"shsy5y_train.json\", add_image_data(shsy5y_train_images, images), filter_annotations(annotations, shsy5y_train_images), [categories[0]])\n",
    "save_coco(f\"shsy5y_val.json\",  add_image_data(shsy5y_val_images, images), filter_annotations(annotations, shsy5y_val_images), [categories[0]])\n",
    "\n",
    "save_coco(f\"astro_train.json\", add_image_data(astro_train_images, images), filter_annotations(annotations, astro_train_images), [categories[1]])\n",
    "save_coco(f\"astro_val.json\",  add_image_data(astro_val_images, images), filter_annotations(annotations, astro_val_images), [categories[1]])\n",
    "\n",
    "save_coco(f\"cort_train.json\", add_image_data(cort_train_images, images), filter_annotations(annotations, cort_train_images), [categories[2]])\n",
    "save_coco(f\"cort_val.json\",  add_image_data(cort_val_images, images), filter_annotations(annotations, cort_val_images), [categories[2]])"
   ]
  },
  {
   "cell_type": "markdown",
   "id": "05f68c06",
   "metadata": {
    "papermill": {
     "duration": 0.009446,
     "end_time": "2021-12-14T17:09:49.324752",
     "exception": false,
     "start_time": "2021-12-14T17:09:49.315306",
     "status": "completed"
    },
    "tags": []
   },
   "source": [
    "Generating and saving 5-fold data to train foldwise segmentation model"
   ]
  },
  {
   "cell_type": "code",
   "execution_count": 11,
   "id": "a4c00e61",
   "metadata": {
    "execution": {
     "iopub.execute_input": "2021-12-14T17:09:49.348369Z",
     "iopub.status.busy": "2021-12-14T17:09:49.347448Z",
     "iopub.status.idle": "2021-12-14T17:10:20.887409Z",
     "shell.execute_reply": "2021-12-14T17:10:20.886781Z",
     "shell.execute_reply.started": "2021-12-12T15:09:17.127486Z"
    },
    "papermill": {
     "duration": 31.55287,
     "end_time": "2021-12-14T17:10:20.887562",
     "exception": false,
     "start_time": "2021-12-14T17:09:49.334692",
     "status": "completed"
    },
    "tags": []
   },
   "outputs": [
    {
     "name": "stdout",
     "output_type": "stream",
     "text": [
      "fold 1\n",
      "(484,) (122,)\n",
      "fold 2\n",
      "(485,) (121,)\n",
      "fold 3\n",
      "(485,) (121,)\n",
      "fold 4\n",
      "(485,) (121,)\n",
      "fold 5\n",
      "(485,) (121,)\n"
     ]
    }
   ],
   "source": [
    "folds = 5\n",
    "kfold = KFold(n_splits=folds, shuffle=True, random_state=17)\n",
    "\n",
    "shsy5y_split = kfold.split(X=images_shsy5y)\n",
    "astro_split = kfold.split(X=images_astro)\n",
    "cort_split = kfold.split(X=images_cort)\n",
    "\n",
    "for fold, ((shsy5y_train_idx,shsy5y_val_idx), (astro_train_idx, astro_val_idx), (cort_train_idx, cort_val_idx)) in enumerate(zip(shsy5y_split, astro_split, cort_split)):\n",
    "    print(f\"fold {fold+1}\")\n",
    "    train_images = np.concatenate([images_shsy5y[shsy5y_train_idx], images_astro[astro_train_idx], images_cort[cort_train_idx]])\n",
    "    val_images = np.concatenate([images_shsy5y[shsy5y_val_idx], images_astro[astro_val_idx], images_cort[cort_val_idx]])\n",
    "    print(train_images.shape, val_images.shape)\n",
    "    save_coco(f\"train_fold_{fold+1}.json\", add_image_data(train_images, images), filter_annotations(annotations, train_images), categories)\n",
    "    save_coco(f\"val_fold_{fold+1}.json\",  add_image_data(val_images, images), filter_annotations(annotations, val_images), categories)"
   ]
  },
  {
   "cell_type": "code",
   "execution_count": null,
   "id": "26a57244",
   "metadata": {
    "papermill": {
     "duration": 0.011136,
     "end_time": "2021-12-14T17:10:20.910605",
     "exception": false,
     "start_time": "2021-12-14T17:10:20.899469",
     "status": "completed"
    },
    "tags": []
   },
   "outputs": [],
   "source": []
  }
 ],
 "metadata": {
  "kernelspec": {
   "display_name": "Python 3",
   "language": "python",
   "name": "python3"
  },
  "language_info": {
   "codemirror_mode": {
    "name": "ipython",
    "version": 3
   },
   "file_extension": ".py",
   "mimetype": "text/x-python",
   "name": "python",
   "nbconvert_exporter": "python",
   "pygments_lexer": "ipython3",
   "version": "3.7.12"
  },
  "papermill": {
   "default_parameters": {},
   "duration": 4041.284729,
   "end_time": "2021-12-14T17:10:21.944727",
   "environment_variables": {},
   "exception": null,
   "input_path": "__notebook__.ipynb",
   "output_path": "__notebook__.ipynb",
   "parameters": {},
   "start_time": "2021-12-14T16:03:00.659998",
   "version": "2.3.3"
  },
  "widgets": {
   "application/vnd.jupyter.widget-state+json": {
    "state": {
     "84ed3d2aaa55487c839001596d48f257": {
      "model_module": "@jupyter-widgets/controls",
      "model_module_version": "1.5.0",
      "model_name": "HBoxModel",
      "state": {
       "_dom_classes": [],
       "_model_module": "@jupyter-widgets/controls",
       "_model_module_version": "1.5.0",
       "_model_name": "HBoxModel",
       "_view_count": null,
       "_view_module": "@jupyter-widgets/controls",
       "_view_module_version": "1.5.0",
       "_view_name": "HBoxView",
       "box_style": "",
       "children": [
        "IPY_MODEL_88a037f649bb40c7a7940723b953370d",
        "IPY_MODEL_ce1b1a387ce042cebb6cf05059e59c12",
        "IPY_MODEL_85c201277ffa4a45b4adff5dfaed01dc"
       ],
       "layout": "IPY_MODEL_bd57605e40c645f5b1b55ce44f221795"
      }
     },
     "85c201277ffa4a45b4adff5dfaed01dc": {
      "model_module": "@jupyter-widgets/controls",
      "model_module_version": "1.5.0",
      "model_name": "HTMLModel",
      "state": {
       "_dom_classes": [],
       "_model_module": "@jupyter-widgets/controls",
       "_model_module_version": "1.5.0",
       "_model_name": "HTMLModel",
       "_view_count": null,
       "_view_module": "@jupyter-widgets/controls",
       "_view_module_version": "1.5.0",
       "_view_name": "HTMLView",
       "description": "",
       "description_tooltip": null,
       "layout": "IPY_MODEL_99a1b2f266d448abb80125558bb14f60",
       "placeholder": "​",
       "style": "IPY_MODEL_9838e2d330654311b99ccc8accefadb7",
       "value": " 73585/? [1:06:10&lt;00:00, 18.69it/s]"
      }
     },
     "88a037f649bb40c7a7940723b953370d": {
      "model_module": "@jupyter-widgets/controls",
      "model_module_version": "1.5.0",
      "model_name": "HTMLModel",
      "state": {
       "_dom_classes": [],
       "_model_module": "@jupyter-widgets/controls",
       "_model_module_version": "1.5.0",
       "_model_name": "HTMLModel",
       "_view_count": null,
       "_view_module": "@jupyter-widgets/controls",
       "_view_module_version": "1.5.0",
       "_view_name": "HTMLView",
       "description": "",
       "description_tooltip": null,
       "layout": "IPY_MODEL_bc5aee2cef3c4bee851e55ab06e19f30",
       "placeholder": "​",
       "style": "IPY_MODEL_ba0f86154bdf46ad8229b2b133b455a4",
       "value": ""
      }
     },
     "9838e2d330654311b99ccc8accefadb7": {
      "model_module": "@jupyter-widgets/controls",
      "model_module_version": "1.5.0",
      "model_name": "DescriptionStyleModel",
      "state": {
       "_model_module": "@jupyter-widgets/controls",
       "_model_module_version": "1.5.0",
       "_model_name": "DescriptionStyleModel",
       "_view_count": null,
       "_view_module": "@jupyter-widgets/base",
       "_view_module_version": "1.2.0",
       "_view_name": "StyleView",
       "description_width": ""
      }
     },
     "99a1b2f266d448abb80125558bb14f60": {
      "model_module": "@jupyter-widgets/base",
      "model_module_version": "1.2.0",
      "model_name": "LayoutModel",
      "state": {
       "_model_module": "@jupyter-widgets/base",
       "_model_module_version": "1.2.0",
       "_model_name": "LayoutModel",
       "_view_count": null,
       "_view_module": "@jupyter-widgets/base",
       "_view_module_version": "1.2.0",
       "_view_name": "LayoutView",
       "align_content": null,
       "align_items": null,
       "align_self": null,
       "border": null,
       "bottom": null,
       "display": null,
       "flex": null,
       "flex_flow": null,
       "grid_area": null,
       "grid_auto_columns": null,
       "grid_auto_flow": null,
       "grid_auto_rows": null,
       "grid_column": null,
       "grid_gap": null,
       "grid_row": null,
       "grid_template_areas": null,
       "grid_template_columns": null,
       "grid_template_rows": null,
       "height": null,
       "justify_content": null,
       "justify_items": null,
       "left": null,
       "margin": null,
       "max_height": null,
       "max_width": null,
       "min_height": null,
       "min_width": null,
       "object_fit": null,
       "object_position": null,
       "order": null,
       "overflow": null,
       "overflow_x": null,
       "overflow_y": null,
       "padding": null,
       "right": null,
       "top": null,
       "visibility": null,
       "width": null
      }
     },
     "b4c6cc7aebf747e5bd14b16d452239af": {
      "model_module": "@jupyter-widgets/controls",
      "model_module_version": "1.5.0",
      "model_name": "ProgressStyleModel",
      "state": {
       "_model_module": "@jupyter-widgets/controls",
       "_model_module_version": "1.5.0",
       "_model_name": "ProgressStyleModel",
       "_view_count": null,
       "_view_module": "@jupyter-widgets/base",
       "_view_module_version": "1.2.0",
       "_view_name": "StyleView",
       "bar_color": null,
       "description_width": ""
      }
     },
     "ba0f86154bdf46ad8229b2b133b455a4": {
      "model_module": "@jupyter-widgets/controls",
      "model_module_version": "1.5.0",
      "model_name": "DescriptionStyleModel",
      "state": {
       "_model_module": "@jupyter-widgets/controls",
       "_model_module_version": "1.5.0",
       "_model_name": "DescriptionStyleModel",
       "_view_count": null,
       "_view_module": "@jupyter-widgets/base",
       "_view_module_version": "1.2.0",
       "_view_name": "StyleView",
       "description_width": ""
      }
     },
     "bc5aee2cef3c4bee851e55ab06e19f30": {
      "model_module": "@jupyter-widgets/base",
      "model_module_version": "1.2.0",
      "model_name": "LayoutModel",
      "state": {
       "_model_module": "@jupyter-widgets/base",
       "_model_module_version": "1.2.0",
       "_model_name": "LayoutModel",
       "_view_count": null,
       "_view_module": "@jupyter-widgets/base",
       "_view_module_version": "1.2.0",
       "_view_name": "LayoutView",
       "align_content": null,
       "align_items": null,
       "align_self": null,
       "border": null,
       "bottom": null,
       "display": null,
       "flex": null,
       "flex_flow": null,
       "grid_area": null,
       "grid_auto_columns": null,
       "grid_auto_flow": null,
       "grid_auto_rows": null,
       "grid_column": null,
       "grid_gap": null,
       "grid_row": null,
       "grid_template_areas": null,
       "grid_template_columns": null,
       "grid_template_rows": null,
       "height": null,
       "justify_content": null,
       "justify_items": null,
       "left": null,
       "margin": null,
       "max_height": null,
       "max_width": null,
       "min_height": null,
       "min_width": null,
       "object_fit": null,
       "object_position": null,
       "order": null,
       "overflow": null,
       "overflow_x": null,
       "overflow_y": null,
       "padding": null,
       "right": null,
       "top": null,
       "visibility": null,
       "width": null
      }
     },
     "bd57605e40c645f5b1b55ce44f221795": {
      "model_module": "@jupyter-widgets/base",
      "model_module_version": "1.2.0",
      "model_name": "LayoutModel",
      "state": {
       "_model_module": "@jupyter-widgets/base",
       "_model_module_version": "1.2.0",
       "_model_name": "LayoutModel",
       "_view_count": null,
       "_view_module": "@jupyter-widgets/base",
       "_view_module_version": "1.2.0",
       "_view_name": "LayoutView",
       "align_content": null,
       "align_items": null,
       "align_self": null,
       "border": null,
       "bottom": null,
       "display": null,
       "flex": null,
       "flex_flow": null,
       "grid_area": null,
       "grid_auto_columns": null,
       "grid_auto_flow": null,
       "grid_auto_rows": null,
       "grid_column": null,
       "grid_gap": null,
       "grid_row": null,
       "grid_template_areas": null,
       "grid_template_columns": null,
       "grid_template_rows": null,
       "height": null,
       "justify_content": null,
       "justify_items": null,
       "left": null,
       "margin": null,
       "max_height": null,
       "max_width": null,
       "min_height": null,
       "min_width": null,
       "object_fit": null,
       "object_position": null,
       "order": null,
       "overflow": null,
       "overflow_x": null,
       "overflow_y": null,
       "padding": null,
       "right": null,
       "top": null,
       "visibility": null,
       "width": null
      }
     },
     "c6a272458cdd4bec89690f324f6fcb3a": {
      "model_module": "@jupyter-widgets/base",
      "model_module_version": "1.2.0",
      "model_name": "LayoutModel",
      "state": {
       "_model_module": "@jupyter-widgets/base",
       "_model_module_version": "1.2.0",
       "_model_name": "LayoutModel",
       "_view_count": null,
       "_view_module": "@jupyter-widgets/base",
       "_view_module_version": "1.2.0",
       "_view_name": "LayoutView",
       "align_content": null,
       "align_items": null,
       "align_self": null,
       "border": null,
       "bottom": null,
       "display": null,
       "flex": null,
       "flex_flow": null,
       "grid_area": null,
       "grid_auto_columns": null,
       "grid_auto_flow": null,
       "grid_auto_rows": null,
       "grid_column": null,
       "grid_gap": null,
       "grid_row": null,
       "grid_template_areas": null,
       "grid_template_columns": null,
       "grid_template_rows": null,
       "height": null,
       "justify_content": null,
       "justify_items": null,
       "left": null,
       "margin": null,
       "max_height": null,
       "max_width": null,
       "min_height": null,
       "min_width": null,
       "object_fit": null,
       "object_position": null,
       "order": null,
       "overflow": null,
       "overflow_x": null,
       "overflow_y": null,
       "padding": null,
       "right": null,
       "top": null,
       "visibility": null,
       "width": "20px"
      }
     },
     "ce1b1a387ce042cebb6cf05059e59c12": {
      "model_module": "@jupyter-widgets/controls",
      "model_module_version": "1.5.0",
      "model_name": "FloatProgressModel",
      "state": {
       "_dom_classes": [],
       "_model_module": "@jupyter-widgets/controls",
       "_model_module_version": "1.5.0",
       "_model_name": "FloatProgressModel",
       "_view_count": null,
       "_view_module": "@jupyter-widgets/controls",
       "_view_module_version": "1.5.0",
       "_view_name": "ProgressView",
       "bar_style": "success",
       "description": "",
       "description_tooltip": null,
       "layout": "IPY_MODEL_c6a272458cdd4bec89690f324f6fcb3a",
       "max": 1.0,
       "min": 0.0,
       "orientation": "horizontal",
       "style": "IPY_MODEL_b4c6cc7aebf747e5bd14b16d452239af",
       "value": 1.0
      }
     }
    },
    "version_major": 2,
    "version_minor": 0
   }
  }
 },
 "nbformat": 4,
 "nbformat_minor": 5
}
