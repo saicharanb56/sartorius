{
 "cells": [
  {
   "cell_type": "markdown",
   "id": "5893308a",
   "metadata": {
    "papermill": {
     "duration": 0.017155,
     "end_time": "2021-12-15T00:43:06.453057",
     "exception": false,
     "start_time": "2021-12-15T00:43:06.435902",
     "status": "completed"
    },
    "tags": []
   },
   "source": [
    "# Ensemble NMS - Detectron2 [Inference]"
   ]
  },
  {
   "cell_type": "markdown",
   "id": "6c273007",
   "metadata": {
    "papermill": {
     "duration": 0.01391,
     "end_time": "2021-12-15T00:43:06.483256",
     "exception": false,
     "start_time": "2021-12-15T00:43:06.469346",
     "status": "completed"
    },
    "tags": []
   },
   "source": [
    "# Introduction\n",
    "This notebook deals with applying Non Max Suppression (NMS) - a technique used for ensembling the bounding box results obtained from Mask-R-CNN."
   ]
  },
  {
   "cell_type": "markdown",
   "id": "6c9470de",
   "metadata": {
    "papermill": {
     "duration": 0.021946,
     "end_time": "2021-12-15T00:43:06.519388",
     "exception": false,
     "start_time": "2021-12-15T00:43:06.497442",
     "status": "completed"
    },
    "tags": []
   },
   "source": [
    "## Install and import libraries"
   ]
  },
  {
   "cell_type": "markdown",
   "id": "e77a89aa",
   "metadata": {
    "papermill": {
     "duration": 0.022287,
     "end_time": "2021-12-15T00:43:06.564957",
     "exception": false,
     "start_time": "2021-12-15T00:43:06.542670",
     "status": "completed"
    },
    "tags": []
   },
   "source": [
    "The next few code cells install detectron libraries, pycocotools and a python module called ensemble-boxes-104 which contains the code for NMS."
   ]
  },
  {
   "cell_type": "code",
   "execution_count": 1,
   "id": "fd883041",
   "metadata": {
    "_kg_hide-input": true,
    "_kg_hide-output": true,
    "execution": {
     "iopub.execute_input": "2021-12-15T00:43:06.628409Z",
     "iopub.status.busy": "2021-12-15T00:43:06.610268Z",
     "iopub.status.idle": "2021-12-15T00:46:42.843244Z",
     "shell.execute_reply": "2021-12-15T00:46:42.842290Z",
     "shell.execute_reply.started": "2021-12-14T19:51:54.940753Z"
    },
    "papermill": {
     "duration": 216.255481,
     "end_time": "2021-12-15T00:46:42.843423",
     "exception": false,
     "start_time": "2021-12-15T00:43:06.587942",
     "status": "completed"
    },
    "tags": []
   },
   "outputs": [
    {
     "name": "stdout",
     "output_type": "stream",
     "text": [
      "Looking in links: ../input/detectron-05/whls\r\n",
      "Processing /kaggle/input/detectron-05/whls/pycocotools-2.0.2/dist/pycocotools-2.0.2.tar\r\n",
      "Requirement already satisfied: setuptools>=18.0 in /opt/conda/lib/python3.7/site-packages (from pycocotools==2.0.2) (58.0.4)\r\n",
      "Requirement already satisfied: cython>=0.27.3 in /opt/conda/lib/python3.7/site-packages (from pycocotools==2.0.2) (0.29.24)\r\n",
      "Requirement already satisfied: matplotlib>=2.1.0 in /opt/conda/lib/python3.7/site-packages (from pycocotools==2.0.2) (3.4.3)\r\n",
      "Requirement already satisfied: kiwisolver>=1.0.1 in /opt/conda/lib/python3.7/site-packages (from matplotlib>=2.1.0->pycocotools==2.0.2) (1.3.2)\r\n",
      "Requirement already satisfied: cycler>=0.10 in /opt/conda/lib/python3.7/site-packages (from matplotlib>=2.1.0->pycocotools==2.0.2) (0.10.0)\r\n",
      "Requirement already satisfied: numpy>=1.16 in /opt/conda/lib/python3.7/site-packages (from matplotlib>=2.1.0->pycocotools==2.0.2) (1.19.5)\r\n",
      "Requirement already satisfied: python-dateutil>=2.7 in /opt/conda/lib/python3.7/site-packages (from matplotlib>=2.1.0->pycocotools==2.0.2) (2.8.0)\r\n",
      "Requirement already satisfied: pyparsing>=2.2.1 in /opt/conda/lib/python3.7/site-packages (from matplotlib>=2.1.0->pycocotools==2.0.2) (2.4.7)\r\n",
      "Requirement already satisfied: pillow>=6.2.0 in /opt/conda/lib/python3.7/site-packages (from matplotlib>=2.1.0->pycocotools==2.0.2) (8.2.0)\r\n",
      "Requirement already satisfied: six in /opt/conda/lib/python3.7/site-packages (from cycler>=0.10->matplotlib>=2.1.0->pycocotools==2.0.2) (1.16.0)\r\n",
      "Building wheels for collected packages: pycocotools\r\n",
      "  Building wheel for pycocotools (setup.py) ... \u001b[?25l-\b \b\\\b \b|\b \b/\b \b-\b \b\\\b \b|\b \b/\b \bdone\r\n",
      "\u001b[?25h  Created wheel for pycocotools: filename=pycocotools-2.0.2-cp37-cp37m-linux_x86_64.whl size=272234 sha256=cb196cd549fd0b3be6f823300b7674e3f24ba829df0c96e7376e955e8366c955\r\n",
      "  Stored in directory: /root/.cache/pip/wheels/d2/09/29/2054c6cc4599cf39f1c52ce3c20bfb50be696caa5d5ba460c9\r\n",
      "Successfully built pycocotools\r\n",
      "Installing collected packages: pycocotools\r\n",
      "Successfully installed pycocotools-2.0.2\r\n",
      "\u001b[33mWARNING: Running pip as the 'root' user can result in broken permissions and conflicting behaviour with the system package manager. It is recommended to use a virtual environment instead: https://pip.pypa.io/warnings/venv\u001b[0m\r\n",
      "Looking in links: ../input/detectron-05/whls\r\n",
      "Processing /kaggle/input/detectron-05/whls/fvcore-0.1.5.post20211019/fvcore-0.1.5.post20211019\r\n",
      "\u001b[33m  DEPRECATION: A future pip version will change local packages to be built in-place without first copying to a temporary directory. We recommend you use --use-feature=in-tree-build to test your packages with this new behavior before it becomes the default.\r\n",
      "   pip 21.3 will remove support for this functionality. You can find discussion regarding this at https://github.com/pypa/pip/issues/7555.\u001b[0m\r\n",
      "Requirement already satisfied: numpy in /opt/conda/lib/python3.7/site-packages (from fvcore==0.1.5.post20211019) (1.19.5)\r\n",
      "Requirement already satisfied: yacs>=0.1.6 in /opt/conda/lib/python3.7/site-packages (from fvcore==0.1.5.post20211019) (0.1.8)\r\n",
      "Requirement already satisfied: pyyaml>=5.1 in /opt/conda/lib/python3.7/site-packages (from fvcore==0.1.5.post20211019) (5.4.1)\r\n",
      "Requirement already satisfied: tqdm in /opt/conda/lib/python3.7/site-packages (from fvcore==0.1.5.post20211019) (4.62.3)\r\n",
      "Requirement already satisfied: termcolor>=1.1 in /opt/conda/lib/python3.7/site-packages (from fvcore==0.1.5.post20211019) (1.1.0)\r\n",
      "Requirement already satisfied: Pillow in /opt/conda/lib/python3.7/site-packages (from fvcore==0.1.5.post20211019) (8.2.0)\r\n",
      "Requirement already satisfied: tabulate in /opt/conda/lib/python3.7/site-packages (from fvcore==0.1.5.post20211019) (0.8.9)\r\n",
      "Processing /kaggle/input/detectron-05/whls/iopath-0.1.9-py3-none-any.whl\r\n",
      "Requirement already satisfied: portalocker in /opt/conda/lib/python3.7/site-packages (from iopath>=0.1.7->fvcore==0.1.5.post20211019) (2.3.2)\r\n",
      "Building wheels for collected packages: fvcore\r\n",
      "  Building wheel for fvcore (setup.py) ... \u001b[?25l-\b \b\\\b \bdone\r\n",
      "\u001b[?25h  Created wheel for fvcore: filename=fvcore-0.1.5.post20211019-py3-none-any.whl size=60878 sha256=b1c5b865eb7842b91d85856c538a6a663dec4a4a8b300094ccbd2b5e690641b7\r\n",
      "  Stored in directory: /root/.cache/pip/wheels/ba/23/7f/50fe782028a2bb7f9d8b13585c0a0a1723a7a3adb53cf3d1b6\r\n",
      "Successfully built fvcore\r\n",
      "Installing collected packages: iopath, fvcore\r\n",
      "Successfully installed fvcore-0.1.5.post20211019 iopath-0.1.9\r\n",
      "\u001b[33mWARNING: Running pip as the 'root' user can result in broken permissions and conflicting behaviour with the system package manager. It is recommended to use a virtual environment instead: https://pip.pypa.io/warnings/venv\u001b[0m\r\n",
      "Looking in links: ../input/detectron-05/whls\r\n",
      "Processing /kaggle/input/detectron-05/whls/antlr4-python3-runtime-4.8/antlr4-python3-runtime-4.8\r\n",
      "\u001b[33m  DEPRECATION: A future pip version will change local packages to be built in-place without first copying to a temporary directory. We recommend you use --use-feature=in-tree-build to test your packages with this new behavior before it becomes the default.\r\n",
      "   pip 21.3 will remove support for this functionality. You can find discussion regarding this at https://github.com/pypa/pip/issues/7555.\u001b[0m\r\n",
      "Building wheels for collected packages: antlr4-python3-runtime\r\n",
      "  Building wheel for antlr4-python3-runtime (setup.py) ... \u001b[?25l-\b \b\\\b \bdone\r\n",
      "\u001b[?25h  Created wheel for antlr4-python3-runtime: filename=antlr4_python3_runtime-4.8-py3-none-any.whl size=141230 sha256=2de22252a6270e343e15dce0cd4c5c54694691ce827dcca9c8e8bde1467326be\r\n",
      "  Stored in directory: /root/.cache/pip/wheels/6e/9c/5b/9e8e1e06147cb3b136c1ee5a7becab5e221e799fd0fb56d4e8\r\n",
      "Successfully built antlr4-python3-runtime\r\n",
      "Installing collected packages: antlr4-python3-runtime\r\n",
      "Successfully installed antlr4-python3-runtime-4.8\r\n",
      "\u001b[33mWARNING: Running pip as the 'root' user can result in broken permissions and conflicting behaviour with the system package manager. It is recommended to use a virtual environment instead: https://pip.pypa.io/warnings/venv\u001b[0m\r\n",
      "Looking in links: ../input/detectron-05/whls\r\n",
      "Processing /kaggle/input/detectron-05/whls/detectron2-0.5/detectron2\r\n",
      "\u001b[33m  DEPRECATION: A future pip version will change local packages to be built in-place without first copying to a temporary directory. We recommend you use --use-feature=in-tree-build to test your packages with this new behavior before it becomes the default.\r\n",
      "   pip 21.3 will remove support for this functionality. You can find discussion regarding this at https://github.com/pypa/pip/issues/7555.\u001b[0m\r\n",
      "Requirement already satisfied: Pillow>=7.1 in /opt/conda/lib/python3.7/site-packages (from detectron2==0.5) (8.2.0)\r\n",
      "Requirement already satisfied: matplotlib in /opt/conda/lib/python3.7/site-packages (from detectron2==0.5) (3.4.3)\r\n",
      "Requirement already satisfied: pycocotools>=2.0.2 in /opt/conda/lib/python3.7/site-packages (from detectron2==0.5) (2.0.2)\r\n",
      "Requirement already satisfied: termcolor>=1.1 in /opt/conda/lib/python3.7/site-packages (from detectron2==0.5) (1.1.0)\r\n",
      "Requirement already satisfied: yacs>=0.1.8 in /opt/conda/lib/python3.7/site-packages (from detectron2==0.5) (0.1.8)\r\n",
      "Requirement already satisfied: tabulate in /opt/conda/lib/python3.7/site-packages (from detectron2==0.5) (0.8.9)\r\n",
      "Requirement already satisfied: cloudpickle in /opt/conda/lib/python3.7/site-packages (from detectron2==0.5) (2.0.0)\r\n",
      "Requirement already satisfied: tqdm>4.29.0 in /opt/conda/lib/python3.7/site-packages (from detectron2==0.5) (4.62.3)\r\n",
      "Requirement already satisfied: tensorboard in /opt/conda/lib/python3.7/site-packages (from detectron2==0.5) (2.6.0)\r\n",
      "Requirement already satisfied: fvcore<0.1.6,>=0.1.5 in /opt/conda/lib/python3.7/site-packages (from detectron2==0.5) (0.1.5.post20211019)\r\n",
      "Requirement already satisfied: iopath<0.1.10,>=0.1.7 in /opt/conda/lib/python3.7/site-packages (from detectron2==0.5) (0.1.9)\r\n",
      "Requirement already satisfied: future in /opt/conda/lib/python3.7/site-packages (from detectron2==0.5) (0.18.2)\r\n",
      "Requirement already satisfied: pydot in /opt/conda/lib/python3.7/site-packages (from detectron2==0.5) (1.4.2)\r\n",
      "Processing /kaggle/input/detectron-05/whls/omegaconf-2.1.1-py3-none-any.whl\r\n",
      "Processing /kaggle/input/detectron-05/whls/hydra_core-1.1.1-py3-none-any.whl\r\n",
      "Processing /kaggle/input/detectron-05/whls/black-21.4b2-py3-none-any.whl\r\n",
      "Requirement already satisfied: typed-ast>=1.4.2 in /opt/conda/lib/python3.7/site-packages (from black==21.4b2->detectron2==0.5) (1.4.3)\r\n",
      "Requirement already satisfied: regex>=2020.1.8 in /opt/conda/lib/python3.7/site-packages (from black==21.4b2->detectron2==0.5) (2021.8.28)\r\n",
      "Requirement already satisfied: typing-extensions>=3.7.4 in /opt/conda/lib/python3.7/site-packages (from black==21.4b2->detectron2==0.5) (3.10.0.2)\r\n",
      "Requirement already satisfied: toml>=0.10.1 in /opt/conda/lib/python3.7/site-packages (from black==21.4b2->detectron2==0.5) (0.10.2)\r\n",
      "Requirement already satisfied: click>=7.1.2 in /opt/conda/lib/python3.7/site-packages (from black==21.4b2->detectron2==0.5) (8.0.1)\r\n",
      "Requirement already satisfied: appdirs in /opt/conda/lib/python3.7/site-packages (from black==21.4b2->detectron2==0.5) (1.4.4)\r\n",
      "Requirement already satisfied: pathspec<1,>=0.8.1 in /opt/conda/lib/python3.7/site-packages (from black==21.4b2->detectron2==0.5) (0.9.0)\r\n",
      "Requirement already satisfied: mypy-extensions>=0.4.3 in /opt/conda/lib/python3.7/site-packages (from black==21.4b2->detectron2==0.5) (0.4.3)\r\n",
      "Requirement already satisfied: importlib-metadata in /opt/conda/lib/python3.7/site-packages (from click>=7.1.2->black==21.4b2->detectron2==0.5) (4.8.1)\r\n",
      "Requirement already satisfied: numpy in /opt/conda/lib/python3.7/site-packages (from fvcore<0.1.6,>=0.1.5->detectron2==0.5) (1.19.5)\r\n",
      "Requirement already satisfied: pyyaml>=5.1 in /opt/conda/lib/python3.7/site-packages (from fvcore<0.1.6,>=0.1.5->detectron2==0.5) (5.4.1)\r\n",
      "Requirement already satisfied: antlr4-python3-runtime==4.8 in /opt/conda/lib/python3.7/site-packages (from hydra-core>=1.1->detectron2==0.5) (4.8)\r\n",
      "Requirement already satisfied: importlib-resources in /opt/conda/lib/python3.7/site-packages (from hydra-core>=1.1->detectron2==0.5) (5.2.2)\r\n",
      "Requirement already satisfied: portalocker in /opt/conda/lib/python3.7/site-packages (from iopath<0.1.10,>=0.1.7->detectron2==0.5) (2.3.2)\r\n",
      "Requirement already satisfied: cython>=0.27.3 in /opt/conda/lib/python3.7/site-packages (from pycocotools>=2.0.2->detectron2==0.5) (0.29.24)\r\n",
      "Requirement already satisfied: setuptools>=18.0 in /opt/conda/lib/python3.7/site-packages (from pycocotools>=2.0.2->detectron2==0.5) (58.0.4)\r\n",
      "Requirement already satisfied: cycler>=0.10 in /opt/conda/lib/python3.7/site-packages (from matplotlib->detectron2==0.5) (0.10.0)\r\n",
      "Requirement already satisfied: pyparsing>=2.2.1 in /opt/conda/lib/python3.7/site-packages (from matplotlib->detectron2==0.5) (2.4.7)\r\n",
      "Requirement already satisfied: python-dateutil>=2.7 in /opt/conda/lib/python3.7/site-packages (from matplotlib->detectron2==0.5) (2.8.0)\r\n",
      "Requirement already satisfied: kiwisolver>=1.0.1 in /opt/conda/lib/python3.7/site-packages (from matplotlib->detectron2==0.5) (1.3.2)\r\n",
      "Requirement already satisfied: six in /opt/conda/lib/python3.7/site-packages (from cycler>=0.10->matplotlib->detectron2==0.5) (1.16.0)\r\n",
      "Requirement already satisfied: zipp>=0.5 in /opt/conda/lib/python3.7/site-packages (from importlib-metadata->click>=7.1.2->black==21.4b2->detectron2==0.5) (3.5.0)\r\n",
      "Requirement already satisfied: tensorboard-plugin-wit>=1.6.0 in /opt/conda/lib/python3.7/site-packages (from tensorboard->detectron2==0.5) (1.8.0)\r\n",
      "Requirement already satisfied: grpcio>=1.24.3 in /opt/conda/lib/python3.7/site-packages (from tensorboard->detectron2==0.5) (1.38.1)\r\n",
      "Requirement already satisfied: requests<3,>=2.21.0 in /opt/conda/lib/python3.7/site-packages (from tensorboard->detectron2==0.5) (2.25.1)\r\n",
      "Requirement already satisfied: markdown>=2.6.8 in /opt/conda/lib/python3.7/site-packages (from tensorboard->detectron2==0.5) (3.3.4)\r\n",
      "Requirement already satisfied: werkzeug>=0.11.15 in /opt/conda/lib/python3.7/site-packages (from tensorboard->detectron2==0.5) (2.0.1)\r\n",
      "Requirement already satisfied: tensorboard-data-server<0.7.0,>=0.6.0 in /opt/conda/lib/python3.7/site-packages (from tensorboard->detectron2==0.5) (0.6.1)\r\n",
      "Requirement already satisfied: google-auth-oauthlib<0.5,>=0.4.1 in /opt/conda/lib/python3.7/site-packages (from tensorboard->detectron2==0.5) (0.4.6)\r\n",
      "Requirement already satisfied: protobuf>=3.6.0 in /opt/conda/lib/python3.7/site-packages (from tensorboard->detectron2==0.5) (3.18.1)\r\n",
      "Requirement already satisfied: google-auth<2,>=1.6.3 in /opt/conda/lib/python3.7/site-packages (from tensorboard->detectron2==0.5) (1.35.0)\r\n",
      "Requirement already satisfied: absl-py>=0.4 in /opt/conda/lib/python3.7/site-packages (from tensorboard->detectron2==0.5) (0.14.0)\r\n",
      "Requirement already satisfied: wheel>=0.26 in /opt/conda/lib/python3.7/site-packages (from tensorboard->detectron2==0.5) (0.37.0)\r\n",
      "Requirement already satisfied: rsa<5,>=3.1.4 in /opt/conda/lib/python3.7/site-packages (from google-auth<2,>=1.6.3->tensorboard->detectron2==0.5) (4.7.2)\r\n",
      "Requirement already satisfied: cachetools<5.0,>=2.0.0 in /opt/conda/lib/python3.7/site-packages (from google-auth<2,>=1.6.3->tensorboard->detectron2==0.5) (4.2.2)\r\n",
      "Requirement already satisfied: pyasn1-modules>=0.2.1 in /opt/conda/lib/python3.7/site-packages (from google-auth<2,>=1.6.3->tensorboard->detectron2==0.5) (0.2.7)\r\n",
      "Requirement already satisfied: requests-oauthlib>=0.7.0 in /opt/conda/lib/python3.7/site-packages (from google-auth-oauthlib<0.5,>=0.4.1->tensorboard->detectron2==0.5) (1.3.0)\r\n",
      "Requirement already satisfied: pyasn1<0.5.0,>=0.4.6 in /opt/conda/lib/python3.7/site-packages (from pyasn1-modules>=0.2.1->google-auth<2,>=1.6.3->tensorboard->detectron2==0.5) (0.4.8)\r\n",
      "Requirement already satisfied: certifi>=2017.4.17 in /opt/conda/lib/python3.7/site-packages (from requests<3,>=2.21.0->tensorboard->detectron2==0.5) (2021.10.8)\r\n",
      "Requirement already satisfied: idna<3,>=2.5 in /opt/conda/lib/python3.7/site-packages (from requests<3,>=2.21.0->tensorboard->detectron2==0.5) (2.10)\r\n",
      "Requirement already satisfied: chardet<5,>=3.0.2 in /opt/conda/lib/python3.7/site-packages (from requests<3,>=2.21.0->tensorboard->detectron2==0.5) (4.0.0)\r\n",
      "Requirement already satisfied: urllib3<1.27,>=1.21.1 in /opt/conda/lib/python3.7/site-packages (from requests<3,>=2.21.0->tensorboard->detectron2==0.5) (1.26.6)\r\n",
      "Requirement already satisfied: oauthlib>=3.0.0 in /opt/conda/lib/python3.7/site-packages (from requests-oauthlib>=0.7.0->google-auth-oauthlib<0.5,>=0.4.1->tensorboard->detectron2==0.5) (3.1.1)\r\n",
      "Building wheels for collected packages: detectron2\r\n",
      "  Building wheel for detectron2 (setup.py) ... \u001b[?25l-\b \b\\\b \b|\b \b/\b \b-\b \b\\\b \b|\b \b/\b \b-\b \b\\\b \b|\b \b/\b \b-\b \b\\\b \b|\b \b/\b \b-\b \b\\\b \bdone\r\n",
      "\u001b[?25h  Created wheel for detectron2: filename=detectron2-0.5-cp37-cp37m-linux_x86_64.whl size=5726896 sha256=4dec1f386f7ba482634fee95e80c0988e3b4cf8130bac0479831acac67ee6a92\r\n",
      "  Stored in directory: /tmp/pip-ephem-wheel-cache-6swfjwjp/wheels/2c/7c/aa/9abf8b469a63a1d1e55f84a4eb7afea06d3399564584ea464a\r\n",
      "Successfully built detectron2\r\n",
      "Installing collected packages: omegaconf, hydra-core, black, detectron2\r\n",
      "  Attempting uninstall: black\r\n",
      "    Found existing installation: black 21.9b0\r\n",
      "    Uninstalling black-21.9b0:\r\n",
      "      Successfully uninstalled black-21.9b0\r\n",
      "Successfully installed black-21.4b2 detectron2-0.5 hydra-core-1.1.1 omegaconf-2.1.1\r\n",
      "\u001b[33mWARNING: Running pip as the 'root' user can result in broken permissions and conflicting behaviour with the system package manager. It is recommended to use a virtual environment instead: https://pip.pypa.io/warnings/venv\u001b[0m\r\n",
      "Looking in links: ./\r\n",
      "Processing /kaggle/input/ensemble-boxes-104/ensemble_boxes-1.0.4\r\n",
      "\u001b[33m  DEPRECATION: A future pip version will change local packages to be built in-place without first copying to a temporary directory. We recommend you use --use-feature=in-tree-build to test your packages with this new behavior before it becomes the default.\r\n",
      "   pip 21.3 will remove support for this functionality. You can find discussion regarding this at https://github.com/pypa/pip/issues/7555.\u001b[0m\r\n",
      "Requirement already satisfied: numpy in /opt/conda/lib/python3.7/site-packages (from ensemble-boxes==1.0.4) (1.19.5)\r\n",
      "Requirement already satisfied: pandas in /opt/conda/lib/python3.7/site-packages (from ensemble-boxes==1.0.4) (1.3.3)\r\n",
      "Requirement already satisfied: numba in /opt/conda/lib/python3.7/site-packages (from ensemble-boxes==1.0.4) (0.54.0)\r\n",
      "Requirement already satisfied: setuptools in /opt/conda/lib/python3.7/site-packages (from numba->ensemble-boxes==1.0.4) (58.0.4)\r\n",
      "Requirement already satisfied: llvmlite<0.38,>=0.37.0rc1 in /opt/conda/lib/python3.7/site-packages (from numba->ensemble-boxes==1.0.4) (0.37.0)\r\n",
      "Requirement already satisfied: python-dateutil>=2.7.3 in /opt/conda/lib/python3.7/site-packages (from pandas->ensemble-boxes==1.0.4) (2.8.0)\r\n",
      "Requirement already satisfied: pytz>=2017.3 in /opt/conda/lib/python3.7/site-packages (from pandas->ensemble-boxes==1.0.4) (2021.1)\r\n",
      "Requirement already satisfied: six>=1.5 in /opt/conda/lib/python3.7/site-packages (from python-dateutil>=2.7.3->pandas->ensemble-boxes==1.0.4) (1.16.0)\r\n",
      "Building wheels for collected packages: ensemble-boxes\r\n",
      "  Building wheel for ensemble-boxes (setup.py) ... \u001b[?25l-\b \bdone\r\n",
      "\u001b[?25h  Created wheel for ensemble-boxes: filename=ensemble_boxes-1.0.4-py3-none-any.whl size=14070 sha256=f5eb07ba12458d146d5636c121ab1cc5f57e6d93966e4bbab1dadcc036693a9b\r\n",
      "  Stored in directory: /root/.cache/pip/wheels/66/11/27/bd684df8a75ad0e720fdc77d199e5876063925350905a64205\r\n",
      "Successfully built ensemble-boxes\r\n",
      "Installing collected packages: ensemble-boxes\r\n",
      "Successfully installed ensemble-boxes-1.0.4\r\n",
      "\u001b[33mWARNING: Running pip as the 'root' user can result in broken permissions and conflicting behaviour with the system package manager. It is recommended to use a virtual environment instead: https://pip.pypa.io/warnings/venv\u001b[0m\r\n"
     ]
    }
   ],
   "source": [
    "!pip install ../input/detectron-05/whls/pycocotools-2.0.2/dist/pycocotools-2.0.2.tar --no-index --find-links ../input/detectron-05/whls \n",
    "!pip install ../input/detectron-05/whls/fvcore-0.1.5.post20211019/fvcore-0.1.5.post20211019 --no-index --find-links ../input/detectron-05/whls \n",
    "!pip install ../input/detectron-05/whls/antlr4-python3-runtime-4.8/antlr4-python3-runtime-4.8 --no-index --find-links ../input/detectron-05/whls \n",
    "!pip install ../input/detectron-05/whls/detectron2-0.5/detectron2 --no-index --find-links ../input/detectron-05/whls \n",
    "!pip install ../input/ensemble-boxes-104/ensemble_boxes-1.0.4/ -f ./ --no-index"
   ]
  },
  {
   "cell_type": "code",
   "execution_count": 2,
   "id": "1a6d2c8b",
   "metadata": {
    "execution": {
     "iopub.execute_input": "2021-12-15T00:46:42.918861Z",
     "iopub.status.busy": "2021-12-15T00:46:42.918032Z",
     "iopub.status.idle": "2021-12-15T00:46:44.654476Z",
     "shell.execute_reply": "2021-12-15T00:46:44.653936Z",
     "shell.execute_reply.started": "2021-12-14T19:55:30.406982Z"
    },
    "papermill": {
     "duration": 1.777332,
     "end_time": "2021-12-15T00:46:44.654621",
     "exception": false,
     "start_time": "2021-12-15T00:46:42.877289",
     "status": "completed"
    },
    "tags": []
   },
   "outputs": [],
   "source": [
    "import os\n",
    "import cv2\n",
    "import json\n",
    "import time\n",
    "import numpy as np\n",
    "import pandas as pd\n",
    "import torch\n",
    "import detectron2\n",
    "from tqdm.auto import tqdm\n",
    "from detectron2 import model_zoo\n",
    "from detectron2.engine import DefaultPredictor\n",
    "from detectron2.config import get_cfg\n",
    "from detectron2.data.datasets import register_coco_instances\n",
    "from detectron2.evaluation import inference_on_dataset\n",
    "from detectron2.evaluation.evaluator import DatasetEvaluator\n",
    "from detectron2.data import DatasetCatalog, build_detection_test_loader\n",
    "import pycocotools.mask as mask_util\n",
    "from PIL import Image\n",
    "import matplotlib.pyplot as plt\n",
    "from fastcore.all import *\n",
    "from ensemble_boxes import *\n",
    "\n",
    "\n",
    "os.environ['CUDA_VISIBLE_DEVICES'] = '0'"
   ]
  },
  {
   "cell_type": "markdown",
   "id": "a2cad549",
   "metadata": {
    "papermill": {
     "duration": 0.032798,
     "end_time": "2021-12-15T00:46:44.721135",
     "exception": false,
     "start_time": "2021-12-15T00:46:44.688337",
     "status": "completed"
    },
    "tags": []
   },
   "source": [
    "## My Models"
   ]
  },
  {
   "cell_type": "markdown",
   "id": "452522a0",
   "metadata": {
    "papermill": {
     "duration": 0.033341,
     "end_time": "2021-12-15T00:46:44.787344",
     "exception": false,
     "start_time": "2021-12-15T00:46:44.754003",
     "status": "completed"
    },
    "tags": []
   },
   "source": [
    "Below, we create a dictionary variable with the file name, config files and class-wise thresholds. This will be used later in the notebook."
   ]
  },
  {
   "cell_type": "code",
   "execution_count": 3,
   "id": "a446ba83",
   "metadata": {
    "execution": {
     "iopub.execute_input": "2021-12-15T00:46:44.860141Z",
     "iopub.status.busy": "2021-12-15T00:46:44.859329Z",
     "iopub.status.idle": "2021-12-15T00:46:44.861439Z",
     "shell.execute_reply": "2021-12-15T00:46:44.861969Z",
     "shell.execute_reply.started": "2021-12-14T19:59:10.734921Z"
    },
    "papermill": {
     "duration": 0.041074,
     "end_time": "2021-12-15T00:46:44.862109",
     "exception": false,
     "start_time": "2021-12-15T00:46:44.821035",
     "status": "completed"
    },
    "tags": []
   },
   "outputs": [],
   "source": [
    "best_models_config = [{'file': 'model_best_fold_1.pth',\n",
    "              'config_name': 'COCO-InstanceSegmentation/mask_rcnn_R_50_FPN_3x.yaml'\n",
    "              , 'thresh': [.15, .35, .55]},\n",
    "              {'file': 'model_best_fold_2.pth',\n",
    "              'config_name': 'COCO-InstanceSegmentation/mask_rcnn_R_50_FPN_3x.yaml'\n",
    "              , 'thresh': [.15, .35, .55]},\n",
    "              {'file': 'model_best_fold_3.pth',\n",
    "              'config_name': 'COCO-InstanceSegmentation/mask_rcnn_R_50_FPN_3x.yaml'\n",
    "              , 'thresh': [.15, .35, .55]},\n",
    "              {'file': 'model_best_fold_4.pth',\n",
    "              'config_name': 'COCO-InstanceSegmentation/mask_rcnn_R_50_FPN_3x.yaml'\n",
    "              , 'thresh': [.15, .35, .55]},\n",
    "              {'file': 'model_best_fold_5.pth',\n",
    "              'config_name': 'COCO-InstanceSegmentation/mask_rcnn_R_50_FPN_3x.yaml'\n",
    "              , 'thresh': [.15, .35, .55]}]"
   ]
  },
  {
   "cell_type": "markdown",
   "id": "c6d40b8d",
   "metadata": {
    "papermill": {
     "duration": 0.032628,
     "end_time": "2021-12-15T00:46:44.927580",
     "exception": false,
     "start_time": "2021-12-15T00:46:44.894952",
     "status": "completed"
    },
    "tags": []
   },
   "source": [
    "Defining IoU threshold for NMS and minimum number of pixels required for a mask to be valid below:"
   ]
  },
  {
   "cell_type": "code",
   "execution_count": 4,
   "id": "c2561ad9",
   "metadata": {
    "execution": {
     "iopub.execute_input": "2021-12-15T00:46:44.999629Z",
     "iopub.status.busy": "2021-12-15T00:46:44.998804Z",
     "iopub.status.idle": "2021-12-15T00:46:45.001242Z",
     "shell.execute_reply": "2021-12-15T00:46:45.000779Z",
     "shell.execute_reply.started": "2021-12-14T19:59:28.479335Z"
    },
    "papermill": {
     "duration": 0.040258,
     "end_time": "2021-12-15T00:46:45.001359",
     "exception": false,
     "start_time": "2021-12-15T00:46:44.961101",
     "status": "completed"
    },
    "tags": []
   },
   "outputs": [],
   "source": [
    "model_path = Path(\"../input/livecellweights\")\n",
    "data_path = Path(\"../input/sartorius-cell-instance-segmentation\")\n",
    "models = []\n",
    "best_models =[]\n",
    "thresholds = []\n",
    "test_path = data_path/'test'\n",
    "MIN_PIXELS = [75, 150, 75]\n",
    "IOU_TH = .4"
   ]
  },
  {
   "cell_type": "markdown",
   "id": "a05fc374",
   "metadata": {
    "papermill": {
     "duration": 0.032554,
     "end_time": "2021-12-15T00:46:45.066701",
     "exception": false,
     "start_time": "2021-12-15T00:46:45.034147",
     "status": "completed"
    },
    "tags": []
   },
   "source": [
    "Now, we generate a for loop wherein we append an empty list of models with individual models from each of the 5 folds."
   ]
  },
  {
   "cell_type": "code",
   "execution_count": 5,
   "id": "4207f59b",
   "metadata": {
    "execution": {
     "iopub.execute_input": "2021-12-15T00:46:45.140540Z",
     "iopub.status.busy": "2021-12-15T00:46:45.139741Z",
     "iopub.status.idle": "2021-12-15T00:47:01.847417Z",
     "shell.execute_reply": "2021-12-15T00:47:01.846892Z"
    },
    "papermill": {
     "duration": 16.747523,
     "end_time": "2021-12-15T00:47:01.847566",
     "exception": false,
     "start_time": "2021-12-15T00:46:45.100043",
     "status": "completed"
    },
    "tags": []
   },
   "outputs": [],
   "source": [
    "for best_model in best_models_config:\n",
    "    model_name = best_model[\"file\"]\n",
    "    model_ths = best_model[\"thresh\"]\n",
    "    config_name = best_model[\"config_name\"]\n",
    "    best_models.append(model_name)\n",
    "    thresholds.append(model_ths)\n",
    "    \n",
    "    cfg = get_cfg()\n",
    "    cfg.merge_from_file(model_zoo.get_config_file(config_name))\n",
    "    cfg.INPUT.MASK_FORMAT = 'bitmask'\n",
    "    cfg.MODEL.ROI_HEADS.NUM_CLASSES = 3 \n",
    "    cfg.MODEL.WEIGHTS = f'{model_path}/{model_name}'  \n",
    "    cfg.TEST.DETECTIONS_PER_IMAGE = 1000\n",
    "    \n",
    "    models.append(DefaultPredictor(cfg))"
   ]
  },
  {
   "cell_type": "markdown",
   "id": "b46c09b5",
   "metadata": {
    "papermill": {
     "duration": 0.033358,
     "end_time": "2021-12-15T00:47:01.915509",
     "exception": false,
     "start_time": "2021-12-15T00:47:01.882151",
     "status": "completed"
    },
    "tags": []
   },
   "source": [
    "## Utils"
   ]
  },
  {
   "cell_type": "markdown",
   "id": "e7b28281",
   "metadata": {
    "papermill": {
     "duration": 0.033723,
     "end_time": "2021-12-15T00:47:01.983001",
     "exception": false,
     "start_time": "2021-12-15T00:47:01.949278",
     "status": "completed"
    },
    "tags": []
   },
   "source": [
    "The functions written below are used to generate inferences."
   ]
  },
  {
   "cell_type": "code",
   "execution_count": 6,
   "id": "8eb95948",
   "metadata": {
    "execution": {
     "iopub.execute_input": "2021-12-15T00:47:02.075664Z",
     "iopub.status.busy": "2021-12-15T00:47:02.074890Z",
     "iopub.status.idle": "2021-12-15T00:47:02.077516Z",
     "shell.execute_reply": "2021-12-15T00:47:02.077065Z",
     "shell.execute_reply.started": "2021-12-14T19:59:47.190633Z"
    },
    "papermill": {
     "duration": 0.061242,
     "end_time": "2021-12-15T00:47:02.077626",
     "exception": false,
     "start_time": "2021-12-15T00:47:02.016384",
     "status": "completed"
    },
    "tags": []
   },
   "outputs": [],
   "source": [
    "def rle_decode(mask_rle, shape=(520, 704)):\n",
    "    '''\n",
    "    mask_rle: run-length as string formated (start length)\n",
    "    shape: (height,width) of array to return \n",
    "    Returns numpy array, 1 - mask, 0 - background\n",
    "\n",
    "    '''\n",
    "    s = mask_rle.split()\n",
    "    starts, lengths = [np.asarray(x, dtype=int) \n",
    "                       for x in (s[0:][::2], s[1:][::2])]\n",
    "    starts -= 1\n",
    "    ends = starts + lengths\n",
    "    img = np.zeros(shape[0] * shape[1], dtype=np.uint8)\n",
    "    for lo, hi in zip(starts, ends):\n",
    "        img[lo : hi] = 1\n",
    "    return img.reshape(shape)  # Needed to align to RLE direction\n",
    "\n",
    "def rle_encode(img):\n",
    "    '''\n",
    "    img: numpy array, 1 - mask, 0 - background\n",
    "    Returns run length as string formated\n",
    "    \n",
    "    '''\n",
    "    pixels = img.flatten()\n",
    "    pixels = np.concatenate([[0], pixels, [0]])\n",
    "    runs = np.where(pixels[1:] != pixels[:-1])[0] + 1\n",
    "    runs[1::2] -= runs[::2]\n",
    "    return ' '.join(str(x) for x in runs)\n",
    "\n",
    "def pred_masks(file_name, path, model, ths, min_pixels):\n",
    "    image = cv2.imread(str(path/file_name))\n",
    "    output = model(image)\n",
    "    pred_classes = output['instances'].pred_classes.cpu().numpy().tolist()\n",
    "    pred_class = max(set(pred_classes), key=pred_classes.count)\n",
    "    take = output['instances'].scores >= ths[pred_class]\n",
    "    pred_masks = output['instances'].pred_masks[take]\n",
    "    pred_masks = pred_masks.cpu().numpy()\n",
    "    result = []\n",
    "    used = np.zeros(image.shape[:2], dtype=int) \n",
    "    for i, mask in enumerate(pred_masks):\n",
    "        mask = mask * (1 - used)\n",
    "        if mask.sum() >= min_pixels[pred_class]:\n",
    "            used += mask\n",
    "            result.append(rle_encode(mask))\n",
    "    return result\n",
    "\n",
    "def predict_models(file_name, path, models, thresholds):\n",
    "    image = cv2.imread(str(path/file_name))\n",
    "    classes, scores, bboxes, masks = [], [], [], []\n",
    "    for i, model in enumerate(models):\n",
    "        output = model(image)\n",
    "        pred_classes = output['instances'].pred_classes.cpu().numpy().tolist()\n",
    "        pred_class = max(set(pred_classes), key=pred_classes.count)\n",
    "        score_thresh_mask = output['instances'].scores >= thresholds[i][pred_class]\n",
    "        classes.extend(output['instances'].pred_classes[score_thresh_mask].cpu().numpy().tolist())\n",
    "        scores.extend(output['instances'].scores[score_thresh_mask].cpu().numpy().tolist())\n",
    "        bboxes.extend(output['instances'].pred_boxes[score_thresh_mask].tensor.cpu().numpy().tolist())\n",
    "        masks.extend(output['instances'].pred_masks[score_thresh_mask].cpu().numpy())\n",
    "    return classes, scores, bboxes, masks\n",
    "\n",
    "def nms_predictions(classes, scores, bboxes, masks, \n",
    "                    iou_th=0.4, shape=(520, 704)):\n",
    "    he, wd = shape[0], shape[1]\n",
    "    boxes_list = [[x[0] / wd, x[1] / he, x[2] / wd, x[3] / he]\n",
    "                  for x in bboxes]\n",
    "    scores_list = [x for x in scores]\n",
    "    labels_list = [x for x in classes]\n",
    "    nms_bboxes, nms_scores, nms_classes = nms(\n",
    "        boxes=[boxes_list], \n",
    "        scores=[scores_list], \n",
    "        labels=[labels_list], \n",
    "        weights=None,\n",
    "        iou_thr=iou_th\n",
    "    )\n",
    "    nms_masks = []\n",
    "    for s in nms_scores:\n",
    "        nms_masks.append(masks[scores.index(s)])\n",
    "    nms_scores, nms_classes, nms_masks = zip(*sorted(zip(nms_scores, nms_classes, nms_masks), reverse=True))\n",
    "    return nms_classes, nms_scores, nms_masks\n",
    "\n",
    "def clean_masks(masks, classes, min_pixels, shape=(520, 704)):\n",
    "    result = []\n",
    "    pred_class = max(set(classes), key=classes.count)\n",
    "    used = np.zeros(shape, dtype=int) \n",
    "    for i, mask in enumerate(masks):\n",
    "        mask = mask * (1 - used)\n",
    "        if mask.sum() >= min_pixels[pred_class]:\n",
    "            used += mask\n",
    "            result.append(rle_encode(mask))\n",
    "    return result\n",
    "\n",
    "def ensemble_all(test_name, test_path, models, thresholds):\n",
    "    classes, scores, bboxes, masks = predict_models(\n",
    "        file_name=test_name, \n",
    "        path=test_path, \n",
    "        models=models, \n",
    "        thresholds=thresholds\n",
    "    )\n",
    "    classes, scores, masks = nms_predictions(\n",
    "        classes, \n",
    "        scores, \n",
    "        bboxes, \n",
    "        masks\n",
    "    )\n",
    "    encoded_masks = clean_masks(\n",
    "        masks, \n",
    "        classes, \n",
    "        min_pixels=MIN_PIXELS\n",
    "    )\n",
    "    return encoded_masks"
   ]
  },
  {
   "cell_type": "markdown",
   "id": "a04d37de",
   "metadata": {
    "papermill": {
     "duration": 0.032813,
     "end_time": "2021-12-15T00:47:02.143352",
     "exception": false,
     "start_time": "2021-12-15T00:47:02.110539",
     "status": "completed"
    },
    "tags": []
   },
   "source": [
    "## Demo inference"
   ]
  },
  {
   "cell_type": "markdown",
   "id": "e878eaf9",
   "metadata": {
    "papermill": {
     "duration": 0.037364,
     "end_time": "2021-12-15T00:47:02.215974",
     "exception": false,
     "start_time": "2021-12-15T00:47:02.178610",
     "status": "completed"
    },
    "tags": []
   },
   "source": [
    "In this section, we test out the NMS inference and visualize the difference between a single model and an ensembled NMS model."
   ]
  },
  {
   "cell_type": "code",
   "execution_count": 7,
   "id": "2e47fde3",
   "metadata": {
    "execution": {
     "iopub.execute_input": "2021-12-15T00:47:02.350788Z",
     "iopub.status.busy": "2021-12-15T00:47:02.350043Z",
     "iopub.status.idle": "2021-12-15T00:47:02.359562Z",
     "shell.execute_reply": "2021-12-15T00:47:02.359072Z",
     "shell.execute_reply.started": "2021-12-14T20:00:00.055192Z"
    },
    "papermill": {
     "duration": 0.105531,
     "end_time": "2021-12-15T00:47:02.359694",
     "exception": false,
     "start_time": "2021-12-15T00:47:02.254163",
     "status": "completed"
    },
    "tags": []
   },
   "outputs": [
    {
     "name": "stdout",
     "output_type": "stream",
     "text": [
      "test images: 3\n"
     ]
    }
   ],
   "source": [
    "test_names = os.listdir(test_path)\n",
    "print('test images:', len(test_names))"
   ]
  },
  {
   "cell_type": "code",
   "execution_count": 8,
   "id": "d9f374c2",
   "metadata": {
    "execution": {
     "iopub.execute_input": "2021-12-15T00:47:02.443573Z",
     "iopub.status.busy": "2021-12-15T00:47:02.442841Z",
     "iopub.status.idle": "2021-12-15T00:47:12.969878Z",
     "shell.execute_reply": "2021-12-15T00:47:12.969370Z",
     "shell.execute_reply.started": "2021-12-14T20:00:02.58333Z"
    },
    "papermill": {
     "duration": 10.570879,
     "end_time": "2021-12-15T00:47:12.970024",
     "exception": false,
     "start_time": "2021-12-15T00:47:02.399145",
     "status": "completed"
    },
    "tags": []
   },
   "outputs": [
    {
     "name": "stderr",
     "output_type": "stream",
     "text": [
      "/opt/conda/lib/python3.7/site-packages/torch/_tensor.py:575: UserWarning: floor_divide is deprecated, and will be removed in a future version of pytorch. It currently rounds toward 0 (like the 'trunc' function NOT 'floor'). This results in incorrect rounding for negative values.\n",
      "To keep the current behavior, use torch.div(a, b, rounding_mode='trunc'), or for actual floor division, use torch.div(a, b, rounding_mode='floor'). (Triggered internally at  /usr/local/src/pytorch/aten/src/ATen/native/BinaryOps.cpp:467.)\n",
      "  return torch.floor_divide(self, other)\n"
     ]
    }
   ],
   "source": [
    "test_id = 0\n",
    "\n",
    "encoded_masks_single = pred_masks(\n",
    "    test_names[test_id], \n",
    "    path=test_path, \n",
    "    model=models[0],\n",
    "    ths=thresholds[0],\n",
    "    min_pixels=MIN_PIXELS\n",
    ")\n",
    "\n",
    "\n",
    "encoded_masks = ensemble_all(test_names[test_id], test_path, models, thresholds)"
   ]
  },
  {
   "cell_type": "markdown",
   "id": "9edc7ec2",
   "metadata": {
    "papermill": {
     "duration": 0.03396,
     "end_time": "2021-12-15T00:47:13.039625",
     "exception": false,
     "start_time": "2021-12-15T00:47:13.005665",
     "status": "completed"
    },
    "tags": []
   },
   "source": [
    "Now that the encoded mask for a sample file has been generated, we proceed to visualize the ensembled masks before generating prediction masks for all of the test images."
   ]
  },
  {
   "cell_type": "code",
   "execution_count": 9,
   "id": "728160e8",
   "metadata": {
    "execution": {
     "iopub.execute_input": "2021-12-15T00:47:13.109929Z",
     "iopub.status.busy": "2021-12-15T00:47:13.109134Z",
     "iopub.status.idle": "2021-12-15T00:47:29.847995Z",
     "shell.execute_reply": "2021-12-15T00:47:29.848601Z",
     "shell.execute_reply.started": "2021-12-14T20:01:11.683827Z"
    },
    "papermill": {
     "duration": 16.775807,
     "end_time": "2021-12-15T00:47:29.848812",
     "exception": false,
     "start_time": "2021-12-15T00:47:13.073005",
     "status": "completed"
    },
    "tags": []
   },
   "outputs": [
    {
     "data": {
      "image/png": "[encoded data removed]",
      "text/plain": [
       "<Figure size 1008x576 with 3 Axes>"
      ]
     },
     "metadata": {
      "needs_background": "light"
     },
     "output_type": "display_data"
    }
   ],
   "source": [
    "_, axs = plt.subplots(1, 3, figsize=(14, 8))\n",
    "\n",
    "\n",
    "axs[0].imshow(cv2.imread(f'{test_path}/{test_names[test_id]}'))\n",
    "axs[0].axis('off')\n",
    "axs[0].set_title(test_names[test_id])\n",
    "\n",
    "for en_mask in encoded_masks:\n",
    "    dec_mask = rle_decode(en_mask)\n",
    "    axs[1].imshow(np.ma.masked_where(dec_mask == 0, dec_mask))\n",
    "    axs[1].axis('off')\n",
    "    axs[1].set_title('ensemble model')\n",
    "\n",
    "\n",
    "for en_mask in encoded_masks_single:\n",
    "    dec_mask = rle_decode(en_mask)\n",
    "    axs[2].imshow(np.ma.masked_where(dec_mask == 0, dec_mask))\n",
    "    axs[2].axis('off')\n",
    "    axs[2].set_title('single model')\n",
    "\n",
    "plt.show()"
   ]
  },
  {
   "cell_type": "markdown",
   "id": "7fcca83f",
   "metadata": {
    "papermill": {
     "duration": 0.057695,
     "end_time": "2021-12-15T00:47:29.965520",
     "exception": false,
     "start_time": "2021-12-15T00:47:29.907825",
     "status": "completed"
    },
    "tags": []
   },
   "source": [
    "## Inference"
   ]
  },
  {
   "cell_type": "markdown",
   "id": "a0bcc2d6",
   "metadata": {
    "papermill": {
     "duration": 0.039768,
     "end_time": "2021-12-15T00:47:30.064302",
     "exception": false,
     "start_time": "2021-12-15T00:47:30.024534",
     "status": "completed"
    },
    "tags": []
   },
   "source": [
    "In this section, we generate prediction masks for all of the test images and create a submission file for submission to the Kaggle competition."
   ]
  },
  {
   "cell_type": "code",
   "execution_count": 10,
   "id": "73497c52",
   "metadata": {
    "execution": {
     "iopub.execute_input": "2021-12-15T00:47:30.143125Z",
     "iopub.status.busy": "2021-12-15T00:47:30.142300Z",
     "iopub.status.idle": "2021-12-15T00:47:33.190289Z",
     "shell.execute_reply": "2021-12-15T00:47:33.189826Z",
     "shell.execute_reply.started": "2021-12-14T20:02:14.95985Z"
    },
    "papermill": {
     "duration": 3.090218,
     "end_time": "2021-12-15T00:47:33.190412",
     "exception": false,
     "start_time": "2021-12-15T00:47:30.100194",
     "status": "completed"
    },
    "tags": []
   },
   "outputs": [
    {
     "data": {
      "application/vnd.jupyter.widget-view+json": {
       "model_id": "53cfe52b429f45e78f5ad478a7b3cc14",
       "version_major": 2,
       "version_minor": 0
      },
      "text/plain": [
       "  0%|          | 0/3 [00:00<?, ?it/s]"
      ]
     },
     "metadata": {},
     "output_type": "display_data"
    }
   ],
   "source": [
    "submission_ids, submission_masks = [], []\n",
    "for test_name in tqdm(test_names):\n",
    "    \n",
    "    encoded_masks = ensemble_all(test_name, test_path, models, thresholds)\n",
    "\n",
    "    for enc_mask in encoded_masks:\n",
    "        submission_ids.append(test_name[:test_name.find('.')])\n",
    "        submission_masks.append(enc_mask)"
   ]
  },
  {
   "cell_type": "code",
   "execution_count": 11,
   "id": "61b626d1",
   "metadata": {
    "execution": {
     "iopub.execute_input": "2021-12-15T00:47:33.272698Z",
     "iopub.status.busy": "2021-12-15T00:47:33.272090Z",
     "iopub.status.idle": "2021-12-15T00:47:33.299313Z",
     "shell.execute_reply": "2021-12-15T00:47:33.298806Z",
     "shell.execute_reply.started": "2021-12-14T20:02:17.902808Z"
    },
    "papermill": {
     "duration": 0.072762,
     "end_time": "2021-12-15T00:47:33.299446",
     "exception": false,
     "start_time": "2021-12-15T00:47:33.226684",
     "status": "completed"
    },
    "tags": []
   },
   "outputs": [
    {
     "data": {
      "text/html": [
       "<div>\n",
       "<style scoped>\n",
       "    .dataframe tbody tr th:only-of-type {\n",
       "        vertical-align: middle;\n",
       "    }\n",
       "\n",
       "    .dataframe tbody tr th {\n",
       "        vertical-align: top;\n",
       "    }\n",
       "\n",
       "    .dataframe thead th {\n",
       "        text-align: right;\n",
       "    }\n",
       "</style>\n",
       "<table border=\"1\" class=\"dataframe\">\n",
       "  <thead>\n",
       "    <tr style=\"text-align: right;\">\n",
       "      <th></th>\n",
       "      <th>id</th>\n",
       "      <th>predicted</th>\n",
       "    </tr>\n",
       "  </thead>\n",
       "  <tbody>\n",
       "    <tr>\n",
       "      <th>0</th>\n",
       "      <td>7ae19de7bc2a</td>\n",
       "      <td>140003 18 140706 22 141410 22 142114 22 142818...</td>\n",
       "    </tr>\n",
       "    <tr>\n",
       "      <th>1</th>\n",
       "      <td>7ae19de7bc2a</td>\n",
       "      <td>139541 5 140244 7 140948 8 141652 8 142356 9 1...</td>\n",
       "    </tr>\n",
       "    <tr>\n",
       "      <th>2</th>\n",
       "      <td>7ae19de7bc2a</td>\n",
       "      <td>25933 2 26626 16 27328 18 28031 19 28733 21 29...</td>\n",
       "    </tr>\n",
       "    <tr>\n",
       "      <th>3</th>\n",
       "      <td>7ae19de7bc2a</td>\n",
       "      <td>146708 6 147412 9 148116 12 148820 13 149524 1...</td>\n",
       "    </tr>\n",
       "    <tr>\n",
       "      <th>4</th>\n",
       "      <td>7ae19de7bc2a</td>\n",
       "      <td>96418 4 97121 6 97825 7 98529 8 99233 9 99937 ...</td>\n",
       "    </tr>\n",
       "  </tbody>\n",
       "</table>\n",
       "</div>"
      ],
      "text/plain": [
       "             id                                          predicted\n",
       "0  7ae19de7bc2a  140003 18 140706 22 141410 22 142114 22 142818...\n",
       "1  7ae19de7bc2a  139541 5 140244 7 140948 8 141652 8 142356 9 1...\n",
       "2  7ae19de7bc2a  25933 2 26626 16 27328 18 28031 19 28733 21 29...\n",
       "3  7ae19de7bc2a  146708 6 147412 9 148116 12 148820 13 149524 1...\n",
       "4  7ae19de7bc2a  96418 4 97121 6 97825 7 98529 8 99233 9 99937 ..."
      ]
     },
     "execution_count": 11,
     "metadata": {},
     "output_type": "execute_result"
    }
   ],
   "source": [
    "pd.DataFrame({\n",
    "    'id': submission_ids, \n",
    "    'predicted': submission_masks\n",
    "}).to_csv('submission.csv', index=False)\n",
    "pd.read_csv('submission.csv').head()"
   ]
  }
 ],
 "metadata": {
  "kernelspec": {
   "display_name": "Python 3",
   "language": "python",
   "name": "python3"
  },
  "language_info": {
   "codemirror_mode": {
    "name": "ipython",
    "version": 3
   },
   "file_extension": ".py",
   "mimetype": "text/x-python",
   "name": "python",
   "nbconvert_exporter": "python",
   "pygments_lexer": "ipython3",
   "version": "3.7.10"
  },
  "papermill": {
   "default_parameters": {},
   "duration": 275.869766,
   "end_time": "2021-12-15T00:47:34.649419",
   "environment_variables": {},
   "exception": null,
   "input_path": "__notebook__.ipynb",
   "output_path": "__notebook__.ipynb",
   "parameters": {},
   "start_time": "2021-12-15T00:42:58.779653",
   "version": "2.3.3"
  },
  "widgets": {
   "application/vnd.jupyter.widget-state+json": {
    "state": {
     "23577a5347e0407cacca0a614969fb05": {
      "model_module": "@jupyter-widgets/controls",
      "model_module_version": "1.5.0",
      "model_name": "HTMLModel",
      "state": {
       "_dom_classes": [],
       "_model_module": "@jupyter-widgets/controls",
       "_model_module_version": "1.5.0",
       "_model_name": "HTMLModel",
       "_view_count": null,
       "_view_module": "@jupyter-widgets/controls",
       "_view_module_version": "1.5.0",
       "_view_name": "HTMLView",
       "description": "",
       "description_tooltip": null,
       "layout": "IPY_MODEL_54a8869610ae44c3b0c8e8879a9cc0f1",
       "placeholder": "​",
       "style": "IPY_MODEL_dfe3e2575f0d4e52b00cfad24ac5cfd6",
       "value": "100%"
      }
     },
     "3ab417bbfd524d9f91a66d947538b882": {
      "model_module": "@jupyter-widgets/controls",
      "model_module_version": "1.5.0",
      "model_name": "DescriptionStyleModel",
      "state": {
       "_model_module": "@jupyter-widgets/controls",
       "_model_module_version": "1.5.0",
       "_model_name": "DescriptionStyleModel",
       "_view_count": null,
       "_view_module": "@jupyter-widgets/base",
       "_view_module_version": "1.2.0",
       "_view_name": "StyleView",
       "description_width": ""
      }
     },
     "5265a9e310c84e3facf0571a074553c2": {
      "model_module": "@jupyter-widgets/base",
      "model_module_version": "1.2.0",
      "model_name": "LayoutModel",
      "state": {
       "_model_module": "@jupyter-widgets/base",
       "_model_module_version": "1.2.0",
       "_model_name": "LayoutModel",
       "_view_count": null,
       "_view_module": "@jupyter-widgets/base",
       "_view_module_version": "1.2.0",
       "_view_name": "LayoutView",
       "align_content": null,
       "align_items": null,
       "align_self": null,
       "border": null,
       "bottom": null,
       "display": null,
       "flex": null,
       "flex_flow": null,
       "grid_area": null,
       "grid_auto_columns": null,
       "grid_auto_flow": null,
       "grid_auto_rows": null,
       "grid_column": null,
       "grid_gap": null,
       "grid_row": null,
       "grid_template_areas": null,
       "grid_template_columns": null,
       "grid_template_rows": null,
       "height": null,
       "justify_content": null,
       "justify_items": null,
       "left": null,
       "margin": null,
       "max_height": null,
       "max_width": null,
       "min_height": null,
       "min_width": null,
       "object_fit": null,
       "object_position": null,
       "order": null,
       "overflow": null,
       "overflow_x": null,
       "overflow_y": null,
       "padding": null,
       "right": null,
       "top": null,
       "visibility": null,
       "width": null
      }
     },
     "53cfe52b429f45e78f5ad478a7b3cc14": {
      "model_module": "@jupyter-widgets/controls",
      "model_module_version": "1.5.0",
      "model_name": "HBoxModel",
      "state": {
       "_dom_classes": [],
       "_model_module": "@jupyter-widgets/controls",
       "_model_module_version": "1.5.0",
       "_model_name": "HBoxModel",
       "_view_count": null,
       "_view_module": "@jupyter-widgets/controls",
       "_view_module_version": "1.5.0",
       "_view_name": "HBoxView",
       "box_style": "",
       "children": [
        "IPY_MODEL_23577a5347e0407cacca0a614969fb05",
        "IPY_MODEL_82f43d8f461e4235b25267d48446051d",
        "IPY_MODEL_5866b6e2e8124cb8928acfc043263439"
       ],
       "layout": "IPY_MODEL_5265a9e310c84e3facf0571a074553c2"
      }
     },
     "54a8869610ae44c3b0c8e8879a9cc0f1": {
      "model_module": "@jupyter-widgets/base",
      "model_module_version": "1.2.0",
      "model_name": "LayoutModel",
      "state": {
       "_model_module": "@jupyter-widgets/base",
       "_model_module_version": "1.2.0",
       "_model_name": "LayoutModel",
       "_view_count": null,
       "_view_module": "@jupyter-widgets/base",
       "_view_module_version": "1.2.0",
       "_view_name": "LayoutView",
       "align_content": null,
       "align_items": null,
       "align_self": null,
       "border": null,
       "bottom": null,
       "display": null,
       "flex": null,
       "flex_flow": null,
       "grid_area": null,
       "grid_auto_columns": null,
       "grid_auto_flow": null,
       "grid_auto_rows": null,
       "grid_column": null,
       "grid_gap": null,
       "grid_row": null,
       "grid_template_areas": null,
       "grid_template_columns": null,
       "grid_template_rows": null,
       "height": null,
       "justify_content": null,
       "justify_items": null,
       "left": null,
       "margin": null,
       "max_height": null,
       "max_width": null,
       "min_height": null,
       "min_width": null,
       "object_fit": null,
       "object_position": null,
       "order": null,
       "overflow": null,
       "overflow_x": null,
       "overflow_y": null,
       "padding": null,
       "right": null,
       "top": null,
       "visibility": null,
       "width": null
      }
     },
     "5866b6e2e8124cb8928acfc043263439": {
      "model_module": "@jupyter-widgets/controls",
      "model_module_version": "1.5.0",
      "model_name": "HTMLModel",
      "state": {
       "_dom_classes": [],
       "_model_module": "@jupyter-widgets/controls",
       "_model_module_version": "1.5.0",
       "_model_name": "HTMLModel",
       "_view_count": null,
       "_view_module": "@jupyter-widgets/controls",
       "_view_module_version": "1.5.0",
       "_view_name": "HTMLView",
       "description": "",
       "description_tooltip": null,
       "layout": "IPY_MODEL_727a7067afdf421db7c6f72a9ac8ad32",
       "placeholder": "​",
       "style": "IPY_MODEL_3ab417bbfd524d9f91a66d947538b882",
       "value": " 3/3 [00:03&lt;00:00,  1.04it/s]"
      }
     },
     "727a7067afdf421db7c6f72a9ac8ad32": {
      "model_module": "@jupyter-widgets/base",
      "model_module_version": "1.2.0",
      "model_name": "LayoutModel",
      "state": {
       "_model_module": "@jupyter-widgets/base",
       "_model_module_version": "1.2.0",
       "_model_name": "LayoutModel",
       "_view_count": null,
       "_view_module": "@jupyter-widgets/base",
       "_view_module_version": "1.2.0",
       "_view_name": "LayoutView",
       "align_content": null,
       "align_items": null,
       "align_self": null,
       "border": null,
       "bottom": null,
       "display": null,
       "flex": null,
       "flex_flow": null,
       "grid_area": null,
       "grid_auto_columns": null,
       "grid_auto_flow": null,
       "grid_auto_rows": null,
       "grid_column": null,
       "grid_gap": null,
       "grid_row": null,
       "grid_template_areas": null,
       "grid_template_columns": null,
       "grid_template_rows": null,
       "height": null,
       "justify_content": null,
       "justify_items": null,
       "left": null,
       "margin": null,
       "max_height": null,
       "max_width": null,
       "min_height": null,
       "min_width": null,
       "object_fit": null,
       "object_position": null,
       "order": null,
       "overflow": null,
       "overflow_x": null,
       "overflow_y": null,
       "padding": null,
       "right": null,
       "top": null,
       "visibility": null,
       "width": null
      }
     },
     "82f43d8f461e4235b25267d48446051d": {
      "model_module": "@jupyter-widgets/controls",
      "model_module_version": "1.5.0",
      "model_name": "FloatProgressModel",
      "state": {
       "_dom_classes": [],
       "_model_module": "@jupyter-widgets/controls",
       "_model_module_version": "1.5.0",
       "_model_name": "FloatProgressModel",
       "_view_count": null,
       "_view_module": "@jupyter-widgets/controls",
       "_view_module_version": "1.5.0",
       "_view_name": "ProgressView",
       "bar_style": "success",
       "description": "",
       "description_tooltip": null,
       "layout": "IPY_MODEL_b6b69c1ee31a4f5da99caa3047fbc14e",
       "max": 3.0,
       "min": 0.0,
       "orientation": "horizontal",
       "style": "IPY_MODEL_9478d96a9c584685858ad9685180352a",
       "value": 3.0
      }
     },
     "9478d96a9c584685858ad9685180352a": {
      "model_module": "@jupyter-widgets/controls",
      "model_module_version": "1.5.0",
      "model_name": "ProgressStyleModel",
      "state": {
       "_model_module": "@jupyter-widgets/controls",
       "_model_module_version": "1.5.0",
       "_model_name": "ProgressStyleModel",
       "_view_count": null,
       "_view_module": "@jupyter-widgets/base",
       "_view_module_version": "1.2.0",
       "_view_name": "StyleView",
       "bar_color": null,
       "description_width": ""
      }
     },
     "b6b69c1ee31a4f5da99caa3047fbc14e": {
      "model_module": "@jupyter-widgets/base",
      "model_module_version": "1.2.0",
      "model_name": "LayoutModel",
      "state": {
       "_model_module": "@jupyter-widgets/base",
       "_model_module_version": "1.2.0",
       "_model_name": "LayoutModel",
       "_view_count": null,
       "_view_module": "@jupyter-widgets/base",
       "_view_module_version": "1.2.0",
       "_view_name": "LayoutView",
       "align_content": null,
       "align_items": null,
       "align_self": null,
       "border": null,
       "bottom": null,
       "display": null,
       "flex": null,
       "flex_flow": null,
       "grid_area": null,
       "grid_auto_columns": null,
       "grid_auto_flow": null,
       "grid_auto_rows": null,
       "grid_column": null,
       "grid_gap": null,
       "grid_row": null,
       "grid_template_areas": null,
       "grid_template_columns": null,
       "grid_template_rows": null,
       "height": null,
       "justify_content": null,
       "justify_items": null,
       "left": null,
       "margin": null,
       "max_height": null,
       "max_width": null,
       "min_height": null,
       "min_width": null,
       "object_fit": null,
       "object_position": null,
       "order": null,
       "overflow": null,
       "overflow_x": null,
       "overflow_y": null,
       "padding": null,
       "right": null,
       "top": null,
       "visibility": null,
       "width": null
      }
     },
     "dfe3e2575f0d4e52b00cfad24ac5cfd6": {
      "model_module": "@jupyter-widgets/controls",
      "model_module_version": "1.5.0",
      "model_name": "DescriptionStyleModel",
      "state": {
       "_model_module": "@jupyter-widgets/controls",
       "_model_module_version": "1.5.0",
       "_model_name": "DescriptionStyleModel",
       "_view_count": null,
       "_view_module": "@jupyter-widgets/base",
       "_view_module_version": "1.2.0",
       "_view_name": "StyleView",
       "description_width": ""
      }
     }
    },
    "version_major": 2,
    "version_minor": 0
   }
  }
 },
 "nbformat": 4,
 "nbformat_minor": 5
}
