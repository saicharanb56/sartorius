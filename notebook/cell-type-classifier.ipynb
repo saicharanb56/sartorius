{
 "cells": [
  {
   "cell_type": "code",
   "execution_count": null,
   "id": "44dde3fd",
   "metadata": {
    "_cell_guid": "b1076dfc-b9ad-4769-8c92-a6c4dae69d19",
    "_uuid": "8f2839f25d086af736a60e9eeb907d3b93b6e0e5",
    "papermill": {
     "duration": 0.016,
     "end_time": "2021-12-15T01:10:27.208512",
     "exception": false,
     "start_time": "2021-12-15T01:10:27.192512",
     "status": "completed"
    },
    "tags": []
   },
   "outputs": [],
   "source": []
  },
  {
   "cell_type": "markdown",
   "id": "12bca9d5",
   "metadata": {
    "papermill": {
     "duration": 0.012031,
     "end_time": "2021-12-15T01:10:27.233136",
     "exception": false,
     "start_time": "2021-12-15T01:10:27.221105",
     "status": "completed"
    },
    "tags": []
   },
   "source": [
    "In this notebook, we aim to create a classifier that simply outputs the cell class of each input image. The purpose of this is to split data based on its class and then train a separate model for each class. The classifier uses a resnet50 architecture as its backbone. We use the available 606 images from the train dataset and 1972 semi-supervised images in order to develop our train our model."
   ]
  },
  {
   "cell_type": "markdown",
   "id": "b66ecbba",
   "metadata": {
    "papermill": {
     "duration": 0.01198,
     "end_time": "2021-12-15T01:10:27.257305",
     "exception": false,
     "start_time": "2021-12-15T01:10:27.245325",
     "status": "completed"
    },
    "tags": []
   },
   "source": [
    "# Importing libraries"
   ]
  },
  {
   "cell_type": "code",
   "execution_count": 1,
   "id": "cb237bb6",
   "metadata": {
    "execution": {
     "iopub.execute_input": "2021-12-15T01:10:27.296389Z",
     "iopub.status.busy": "2021-12-15T01:10:27.295576Z",
     "iopub.status.idle": "2021-12-15T01:10:32.800350Z",
     "shell.execute_reply": "2021-12-15T01:10:32.799011Z"
    },
    "papermill": {
     "duration": 5.53091,
     "end_time": "2021-12-15T01:10:32.800566",
     "exception": false,
     "start_time": "2021-12-15T01:10:27.269656",
     "status": "completed"
    },
    "tags": []
   },
   "outputs": [],
   "source": [
    "import numpy as np \n",
    "import pandas as pd \n",
    "import matplotlib.pyplot as plt\n",
    "import numpy as np\n",
    "import tensorflow as tf\n",
    "import os\n",
    "from shutil import copyfile\n",
    "from glob import glob\n",
    "\n",
    "import random\n",
    "random.seed(7)\n",
    "from tensorflow import keras\n",
    "from tensorflow.keras import layers, regularizers\n",
    "from tensorflow.keras.models import Sequential\n",
    "from keras.preprocessing.image import ImageDataGenerator\n",
    "from tensorflow.keras.layers import Dense, Conv2D, Flatten, Dropout, MaxPooling2D\n",
    "from sklearn.model_selection import train_test_split\n",
    "        \n",
    "my_data_dir = './'\n",
    "my_data_train = os.path.join(my_data_dir, 'train_class')\n",
    "my_data_val = os.path.join(my_data_dir, 'val_class')\n",
    "data_dir = '../input/sartorius-cell-instance-segmentation/'\n",
    "train_data_dir = '../input/sartorius-cell-instance-segmentation/train'\n",
    "classes = ['shsy5y', 'cort', 'astro']\n",
    "\n",
    "def preprocess_input(img):\n",
    "    return tf.keras.applications.resnet50.preprocess_input(img)\n",
    "\n",
    "def get_model():\n",
    "    resnet50 = tf.keras.applications.resnet50.ResNet50(\n",
    "        include_top=False,\n",
    "        weights=\"imagenet\",\n",
    "        input_shape=(704, 520, 3),\n",
    "        pooling='avg'\n",
    "    )\n",
    "\n",
    "    fc1 = tf.keras.layers.Dense(128, activation='relu', name=\"Dense1\")(resnet50.output)\n",
    "    fc2 = tf.keras.layers.Dense(3, name=\"Dense2\")(fc1)\n",
    "\n",
    "    model = tf.keras.models.Model(inputs=resnet50.input, outputs=fc2)\n",
    "    return model\n",
    "\n",
    "epochs = 1\n",
    "batch_size = 16"
   ]
  },
  {
   "cell_type": "markdown",
   "id": "61309e5a",
   "metadata": {
    "papermill": {
     "duration": 0.021345,
     "end_time": "2021-12-15T01:10:32.848693",
     "exception": false,
     "start_time": "2021-12-15T01:10:32.827348",
     "status": "completed"
    },
    "tags": []
   },
   "source": [
    "# Indexing all the training and semi supervised data"
   ]
  },
  {
   "cell_type": "code",
   "execution_count": 2,
   "id": "d02f18ae",
   "metadata": {
    "execution": {
     "iopub.execute_input": "2021-12-15T01:10:32.900743Z",
     "iopub.status.busy": "2021-12-15T01:10:32.899955Z",
     "iopub.status.idle": "2021-12-15T01:10:37.320347Z",
     "shell.execute_reply": "2021-12-15T01:10:37.320767Z",
     "shell.execute_reply.started": "2021-12-13T15:03:55.453357Z"
    },
    "papermill": {
     "duration": 4.450514,
     "end_time": "2021-12-15T01:10:37.320962",
     "exception": false,
     "start_time": "2021-12-15T01:10:32.870448",
     "status": "completed"
    },
    "tags": []
   },
   "outputs": [],
   "source": [
    "images = []\n",
    "image_class = []\n",
    "\n",
    "train_df = pd.read_csv('../input/sartorius-cell-instance-segmentation/train.csv')\n",
    "\n",
    "for astro_img in glob('../input/sartorius-cell-instance-segmentation/train_semi_supervised/astro*'):\n",
    "    images.append(astro_img)\n",
    "    image_class.append('astro')\n",
    "    \n",
    "for cort_img in glob('../input/sartorius-cell-instance-segmentation/train_semi_supervised/cort*'):\n",
    "    images.append(cort_img)\n",
    "    image_class.append('cort')\n",
    "    \n",
    "for shsy5y_img in glob('../input/sartorius-cell-instance-segmentation/train_semi_supervised/shsy5y*'):\n",
    "    images.append(shsy5y_img)\n",
    "    image_class.append('shsy5y')\n",
    "\n",
    "images_to_cell_type = {}    \n",
    "\n",
    "for _, row in train_df.iterrows():\n",
    "    images_to_cell_type[row['id']] = row['cell_type']\n",
    "\n",
    "for image, cell_type in images_to_cell_type.items():\n",
    "    images.append('../input/sartorius-cell-instance-segmentation/train/' + image + '.png')\n",
    "    image_class.append(cell_type)\n",
    "\n",
    "image_class = np.array(image_class)\n",
    "images = np.array(images)"
   ]
  },
  {
   "cell_type": "markdown",
   "id": "d378b36b",
   "metadata": {
    "papermill": {
     "duration": 0.012827,
     "end_time": "2021-12-15T01:10:37.347122",
     "exception": false,
     "start_time": "2021-12-15T01:10:37.334295",
     "status": "completed"
    },
    "tags": []
   },
   "source": [
    "# Generating stratified train test split (80/20)"
   ]
  },
  {
   "cell_type": "code",
   "execution_count": 3,
   "id": "2ddcb04c",
   "metadata": {
    "execution": {
     "iopub.execute_input": "2021-12-15T01:10:37.379364Z",
     "iopub.status.busy": "2021-12-15T01:10:37.378746Z",
     "iopub.status.idle": "2021-12-15T01:10:37.386592Z",
     "shell.execute_reply": "2021-12-15T01:10:37.386162Z",
     "shell.execute_reply.started": "2021-12-13T15:03:59.493318Z"
    },
    "papermill": {
     "duration": 0.026935,
     "end_time": "2021-12-15T01:10:37.386698",
     "exception": false,
     "start_time": "2021-12-15T01:10:37.359763",
     "status": "completed"
    },
    "tags": []
   },
   "outputs": [],
   "source": [
    "train_images, val_images, train_class, val_class = train_test_split(images, image_class, stratify=image_class, test_size=0.2, random_state=17, shuffle=True)"
   ]
  },
  {
   "cell_type": "markdown",
   "id": "ef4e1377",
   "metadata": {
    "papermill": {
     "duration": 0.012123,
     "end_time": "2021-12-15T01:10:37.411184",
     "exception": false,
     "start_time": "2021-12-15T01:10:37.399061",
     "status": "completed"
    },
    "tags": []
   },
   "source": [
    "Distribution of train data:"
   ]
  },
  {
   "cell_type": "code",
   "execution_count": 4,
   "id": "05a1a14a",
   "metadata": {
    "execution": {
     "iopub.execute_input": "2021-12-15T01:10:37.440826Z",
     "iopub.status.busy": "2021-12-15T01:10:37.440003Z",
     "iopub.status.idle": "2021-12-15T01:10:37.445173Z",
     "shell.execute_reply": "2021-12-15T01:10:37.444705Z",
     "shell.execute_reply.started": "2021-12-13T15:03:59.50948Z"
    },
    "papermill": {
     "duration": 0.021717,
     "end_time": "2021-12-15T01:10:37.445274",
     "exception": false,
     "start_time": "2021-12-15T01:10:37.423557",
     "status": "completed"
    },
    "tags": []
   },
   "outputs": [
    {
     "name": "stdout",
     "output_type": "stream",
     "text": [
      "['astro' 'cort' 'shsy5y'] [0.44180407 0.31668283 0.24151309]\n"
     ]
    }
   ],
   "source": [
    "t, train_counts = np.unique(train_class, return_counts=True)\n",
    "print(t, train_counts / train_counts.sum())"
   ]
  },
  {
   "cell_type": "markdown",
   "id": "e9a8f7f1",
   "metadata": {
    "papermill": {
     "duration": 0.012463,
     "end_time": "2021-12-15T01:10:37.470924",
     "exception": false,
     "start_time": "2021-12-15T01:10:37.458461",
     "status": "completed"
    },
    "tags": []
   },
   "source": [
    "Distribution of val data:"
   ]
  },
  {
   "cell_type": "code",
   "execution_count": 5,
   "id": "76615aff",
   "metadata": {
    "execution": {
     "iopub.execute_input": "2021-12-15T01:10:37.501855Z",
     "iopub.status.busy": "2021-12-15T01:10:37.501194Z",
     "iopub.status.idle": "2021-12-15T01:10:37.503991Z",
     "shell.execute_reply": "2021-12-15T01:10:37.504397Z",
     "shell.execute_reply.started": "2021-12-13T15:03:59.517533Z"
    },
    "papermill": {
     "duration": 0.020597,
     "end_time": "2021-12-15T01:10:37.504523",
     "exception": false,
     "start_time": "2021-12-15T01:10:37.483926",
     "status": "completed"
    },
    "tags": []
   },
   "outputs": [
    {
     "name": "stdout",
     "output_type": "stream",
     "text": [
      "['astro' 'cort' 'shsy5y'] [0.44186047 0.31589147 0.24224806]\n"
     ]
    }
   ],
   "source": [
    "t,  val_counts = np.unique(val_class, return_counts=True)\n",
    "print(t, val_counts / val_counts.sum())"
   ]
  },
  {
   "cell_type": "markdown",
   "id": "d4f95c39",
   "metadata": {
    "papermill": {
     "duration": 0.014023,
     "end_time": "2021-12-15T01:10:37.532460",
     "exception": false,
     "start_time": "2021-12-15T01:10:37.518437",
     "status": "completed"
    },
    "tags": []
   },
   "source": [
    "This shows that our validation and training data have a similar distribution between classes."
   ]
  },
  {
   "cell_type": "markdown",
   "id": "c839c6ca",
   "metadata": {
    "papermill": {
     "duration": 0.012657,
     "end_time": "2021-12-15T01:10:37.558269",
     "exception": false,
     "start_time": "2021-12-15T01:10:37.545612",
     "status": "completed"
    },
    "tags": []
   },
   "source": [
    "# Creating directory structure for training and validation data"
   ]
  },
  {
   "cell_type": "markdown",
   "id": "3257ccc9",
   "metadata": {
    "papermill": {
     "duration": 0.012613,
     "end_time": "2021-12-15T01:10:37.583677",
     "exception": false,
     "start_time": "2021-12-15T01:10:37.571064",
     "status": "completed"
    },
    "tags": []
   },
   "source": [
    "We define the following variables in order to make the training code cleaner:"
   ]
  },
  {
   "cell_type": "code",
   "execution_count": 6,
   "id": "ee8d5c09",
   "metadata": {
    "execution": {
     "iopub.execute_input": "2021-12-15T01:10:37.616748Z",
     "iopub.status.busy": "2021-12-15T01:10:37.615936Z",
     "iopub.status.idle": "2021-12-15T01:10:59.924569Z",
     "shell.execute_reply": "2021-12-15T01:10:59.925033Z",
     "shell.execute_reply.started": "2021-12-13T15:03:59.527384Z"
    },
    "papermill": {
     "duration": 22.328717,
     "end_time": "2021-12-15T01:10:59.925212",
     "exception": false,
     "start_time": "2021-12-15T01:10:37.596495",
     "status": "completed"
    },
    "tags": []
   },
   "outputs": [],
   "source": [
    "TRAIN_DIR = './train'\n",
    "VAL_DIR = './val'\n",
    "\n",
    "os.makedirs(TRAIN_DIR, exist_ok=True)\n",
    "os.makedirs(VAL_DIR, exist_ok=True)\n",
    "\n",
    "os.makedirs(TRAIN_DIR + '/astro', exist_ok=True)\n",
    "os.makedirs(TRAIN_DIR + '/cort', exist_ok=True)\n",
    "os.makedirs(TRAIN_DIR + '/shsy5y', exist_ok=True)\n",
    "\n",
    "os.makedirs(VAL_DIR + '/astro', exist_ok=True)\n",
    "os.makedirs(VAL_DIR + '/cort', exist_ok=True)\n",
    "os.makedirs(VAL_DIR + '/shsy5y', exist_ok=True)\n",
    "\n",
    "for image, category in zip(train_images, train_class):\n",
    "    copyfile(image, TRAIN_DIR + '/' +  category + '/' + image.split('/')[-1])\n",
    "for image, category in zip(val_images, val_class):\n",
    "    copyfile(image, VAL_DIR + '/' +  category + '/' + image.split('/')[-1])"
   ]
  },
  {
   "cell_type": "code",
   "execution_count": 7,
   "id": "ebbb9b66",
   "metadata": {
    "execution": {
     "iopub.execute_input": "2021-12-15T01:10:59.959071Z",
     "iopub.status.busy": "2021-12-15T01:10:59.958130Z",
     "iopub.status.idle": "2021-12-15T01:11:06.441908Z",
     "shell.execute_reply": "2021-12-15T01:11:06.442371Z",
     "shell.execute_reply.started": "2021-12-13T15:04:16.8426Z"
    },
    "papermill": {
     "duration": 6.503862,
     "end_time": "2021-12-15T01:11:06.442541",
     "exception": false,
     "start_time": "2021-12-15T01:10:59.938679",
     "status": "completed"
    },
    "tags": []
   },
   "outputs": [
    {
     "name": "stderr",
     "output_type": "stream",
     "text": [
      "2021-12-15 01:11:00.184927: I tensorflow/stream_executor/cuda/cuda_gpu_executor.cc:937] successful NUMA node read from SysFS had negative value (-1), but there must be at least one NUMA node, so returning NUMA node zero\n",
      "2021-12-15 01:11:00.327100: I tensorflow/stream_executor/cuda/cuda_gpu_executor.cc:937] successful NUMA node read from SysFS had negative value (-1), but there must be at least one NUMA node, so returning NUMA node zero\n",
      "2021-12-15 01:11:00.327856: I tensorflow/stream_executor/cuda/cuda_gpu_executor.cc:937] successful NUMA node read from SysFS had negative value (-1), but there must be at least one NUMA node, so returning NUMA node zero\n",
      "2021-12-15 01:11:00.329033: I tensorflow/core/platform/cpu_feature_guard.cc:142] This TensorFlow binary is optimized with oneAPI Deep Neural Network Library (oneDNN) to use the following CPU instructions in performance-critical operations:  AVX2 AVX512F FMA\n",
      "To enable them in other operations, rebuild TensorFlow with the appropriate compiler flags.\n",
      "2021-12-15 01:11:00.330064: I tensorflow/stream_executor/cuda/cuda_gpu_executor.cc:937] successful NUMA node read from SysFS had negative value (-1), but there must be at least one NUMA node, so returning NUMA node zero\n",
      "2021-12-15 01:11:00.330733: I tensorflow/stream_executor/cuda/cuda_gpu_executor.cc:937] successful NUMA node read from SysFS had negative value (-1), but there must be at least one NUMA node, so returning NUMA node zero\n",
      "2021-12-15 01:11:00.331380: I tensorflow/stream_executor/cuda/cuda_gpu_executor.cc:937] successful NUMA node read from SysFS had negative value (-1), but there must be at least one NUMA node, so returning NUMA node zero\n",
      "2021-12-15 01:11:02.067360: I tensorflow/stream_executor/cuda/cuda_gpu_executor.cc:937] successful NUMA node read from SysFS had negative value (-1), but there must be at least one NUMA node, so returning NUMA node zero\n",
      "2021-12-15 01:11:02.068269: I tensorflow/stream_executor/cuda/cuda_gpu_executor.cc:937] successful NUMA node read from SysFS had negative value (-1), but there must be at least one NUMA node, so returning NUMA node zero\n",
      "2021-12-15 01:11:02.068936: I tensorflow/stream_executor/cuda/cuda_gpu_executor.cc:937] successful NUMA node read from SysFS had negative value (-1), but there must be at least one NUMA node, so returning NUMA node zero\n",
      "2021-12-15 01:11:02.069942: I tensorflow/core/common_runtime/gpu/gpu_device.cc:1510] Created device /job:localhost/replica:0/task:0/device:GPU:0 with 15403 MB memory:  -> device: 0, name: Tesla P100-PCIE-16GB, pci bus id: 0000:00:04.0, compute capability: 6.0\n"
     ]
    },
    {
     "name": "stdout",
     "output_type": "stream",
     "text": [
      "Downloading data from https://storage.googleapis.com/tensorflow/keras-applications/resnet/resnet50_weights_tf_dim_ordering_tf_kernels_notop.h5\n",
      "94773248/94765736 [==============================] - 2s 0us/step\n",
      "94781440/94765736 [==============================] - 2s 0us/step\n"
     ]
    }
   ],
   "source": [
    "model = get_model()\n",
    "\n",
    "model.compile(optimizer='adam',loss=tf.keras.losses.CategoricalCrossentropy(from_logits=True),metrics=['accuracy'])"
   ]
  },
  {
   "cell_type": "markdown",
   "id": "12618888",
   "metadata": {
    "papermill": {
     "duration": 0.01868,
     "end_time": "2021-12-15T01:11:06.480265",
     "exception": false,
     "start_time": "2021-12-15T01:11:06.461585",
     "status": "completed"
    },
    "tags": []
   },
   "source": [
    "Performing data augmentations as shown below:"
   ]
  },
  {
   "cell_type": "code",
   "execution_count": 8,
   "id": "ad050c51",
   "metadata": {
    "execution": {
     "iopub.execute_input": "2021-12-15T01:11:06.523303Z",
     "iopub.status.busy": "2021-12-15T01:11:06.522557Z",
     "iopub.status.idle": "2021-12-15T01:11:06.734380Z",
     "shell.execute_reply": "2021-12-15T01:11:06.733930Z",
     "shell.execute_reply.started": "2021-12-13T15:04:21.325776Z"
    },
    "papermill": {
     "duration": 0.235951,
     "end_time": "2021-12-15T01:11:06.734500",
     "exception": false,
     "start_time": "2021-12-15T01:11:06.498549",
     "status": "completed"
    },
    "tags": []
   },
   "outputs": [
    {
     "name": "stdout",
     "output_type": "stream",
     "text": [
      "Found 2062 images belonging to 3 classes.\n",
      "Found 516 images belonging to 3 classes.\n"
     ]
    }
   ],
   "source": [
    "train_datagen = ImageDataGenerator(vertical_flip=True, zoom_range=0.2, shear_range=0.2, preprocessing_function=preprocess_input)\n",
    "train_generator = train_datagen.flow_from_directory(TRAIN_DIR, target_size=(704, 520), color_mode='rgb', batch_size=batch_size) \n",
    "val_generator = train_datagen.flow_from_directory(VAL_DIR, target_size=(704, 520), color_mode='rgb', batch_size=batch_size)\n",
    "\n",
    "model_checkpoint_callback = tf.keras.callbacks.ModelCheckpoint(\n",
    "    filepath='./model_checkpoint',\n",
    "    save_weights_only=True,\n",
    "    monitor='val_accuracy',\n",
    "    mode='max',\n",
    "    save_best_only=True,\n",
    "    verbose=1)"
   ]
  },
  {
   "cell_type": "code",
   "execution_count": 9,
   "id": "68377d23",
   "metadata": {
    "execution": {
     "iopub.execute_input": "2021-12-15T01:11:06.778741Z",
     "iopub.status.busy": "2021-12-15T01:11:06.777948Z",
     "iopub.status.idle": "2021-12-15T01:15:12.457339Z",
     "shell.execute_reply": "2021-12-15T01:15:12.457762Z"
    },
    "papermill": {
     "duration": 245.704733,
     "end_time": "2021-12-15T01:15:12.457967",
     "exception": false,
     "start_time": "2021-12-15T01:11:06.753234",
     "status": "completed"
    },
    "tags": []
   },
   "outputs": [
    {
     "name": "stderr",
     "output_type": "stream",
     "text": [
      "2021-12-15 01:11:08.044505: I tensorflow/compiler/mlir/mlir_graph_optimization_pass.cc:185] None of the MLIR Optimization Passes are enabled (registered 2)\n",
      "2021-12-15 01:11:15.167932: I tensorflow/stream_executor/cuda/cuda_dnn.cc:369] Loaded cuDNN version 8005\n"
     ]
    },
    {
     "name": "stdout",
     "output_type": "stream",
     "text": [
      "129/129 - 243s - loss: 0.2322 - accuracy: 0.9355 - val_loss: 308.4874 - val_accuracy: 0.5349\n",
      "\n",
      "Epoch 00001: val_accuracy improved from -inf to 0.53488, saving model to ./model_checkpoint\n"
     ]
    }
   ],
   "source": [
    "history = model.fit(\n",
    "    x=train_generator,\n",
    "    steps_per_epoch=int(np.ceil(train_generator.n / float(batch_size))),\n",
    "    epochs=epochs,\n",
    "    validation_data=val_generator,\n",
    "    validation_steps=int(np.ceil(val_generator.n / float(batch_size))),\n",
    "    callbacks=[model_checkpoint_callback],\n",
    "    verbose=2\n",
    ")"
   ]
  },
  {
   "cell_type": "code",
   "execution_count": 10,
   "id": "76b46087",
   "metadata": {
    "execution": {
     "iopub.execute_input": "2021-12-15T01:15:12.506019Z",
     "iopub.status.busy": "2021-12-15T01:15:12.504913Z",
     "iopub.status.idle": "2021-12-15T01:15:14.718833Z",
     "shell.execute_reply": "2021-12-15T01:15:14.719271Z",
     "shell.execute_reply.started": "2021-12-13T05:19:15.103815Z"
    },
    "papermill": {
     "duration": 2.241123,
     "end_time": "2021-12-15T01:15:14.719417",
     "exception": false,
     "start_time": "2021-12-15T01:15:12.478294",
     "status": "completed"
    },
    "tags": []
   },
   "outputs": [
    {
     "data": {
      "text/plain": [
       "<tensorflow.python.training.tracking.util.CheckpointLoadStatus at 0x7f43fda43b10>"
      ]
     },
     "execution_count": 10,
     "metadata": {},
     "output_type": "execute_result"
    }
   ],
   "source": [
    "new_model= get_model()\n",
    "new_model.load_weights('./model_checkpoint')"
   ]
  },
  {
   "cell_type": "code",
   "execution_count": 11,
   "id": "bb461afa",
   "metadata": {
    "execution": {
     "iopub.execute_input": "2021-12-15T01:15:14.774306Z",
     "iopub.status.busy": "2021-12-15T01:15:14.773152Z",
     "iopub.status.idle": "2021-12-15T01:15:56.967333Z",
     "shell.execute_reply": "2021-12-15T01:15:56.966871Z",
     "shell.execute_reply.started": "2021-12-13T05:31:38.272833Z"
    },
    "papermill": {
     "duration": 42.227677,
     "end_time": "2021-12-15T01:15:56.967461",
     "exception": false,
     "start_time": "2021-12-15T01:15:14.739784",
     "status": "completed"
    },
    "tags": []
   },
   "outputs": [
    {
     "name": "stdout",
     "output_type": "stream",
     "text": [
      "33/33 [==============================] - 41s 1s/step - loss: 291.6204 - accuracy: 0.5291\n"
     ]
    },
    {
     "data": {
      "text/plain": [
       "[291.6203918457031, 0.5290697813034058]"
      ]
     },
     "execution_count": 11,
     "metadata": {},
     "output_type": "execute_result"
    }
   ],
   "source": [
    "new_model.compile(optimizer='adam',loss=tf.keras.losses.CategoricalCrossentropy(from_logits=True),metrics=['accuracy'])\n",
    "new_model.evaluate(\n",
    "    val_generator,\n",
    "    verbose=1)"
   ]
  }
 ],
 "metadata": {
  "kernelspec": {
   "display_name": "Python 3",
   "language": "python",
   "name": "python3"
  },
  "language_info": {
   "codemirror_mode": {
    "name": "ipython",
    "version": 3
   },
   "file_extension": ".py",
   "mimetype": "text/x-python",
   "name": "python",
   "nbconvert_exporter": "python",
   "pygments_lexer": "ipython3",
   "version": "3.7.10"
  },
  "papermill": {
   "default_parameters": {},
   "duration": 340.462554,
   "end_time": "2021-12-15T01:16:00.162464",
   "environment_variables": {},
   "exception": null,
   "input_path": "__notebook__.ipynb",
   "output_path": "__notebook__.ipynb",
   "parameters": {},
   "start_time": "2021-12-15T01:10:19.699910",
   "version": "2.3.3"
  }
 },
 "nbformat": 4,
 "nbformat_minor": 5
}
